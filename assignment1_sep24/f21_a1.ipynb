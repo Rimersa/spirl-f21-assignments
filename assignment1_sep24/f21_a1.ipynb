{
    "cells": [
        {
            "cell_type": "markdown",
            "source": [
                "# Assignment 1 (Sep 21)\n",
                "\n",
                "Welcome to assignment 1! In class we will cover the following topics:\n",
                "\n",
                "```{note}\n",
                "Lecture recording links will be uploaded after each class to the syllabus [here](https://cjtu.github.io/spirl/f21_about.html).\n",
                "```\n",
                "\n",
                "1. Quick Jupyter interface tour\n",
                "2. Difference between a `list` and a `numpy.array` in python\n",
                "3. How to make a function\n",
                "4. Simple plotting with `matplotlib.pyplot`\n",
                "\n",
                "## Readings (optional)\n",
                "\n",
                "If you find this week's material new or challenging, you may want to read through some or all the following SPIRL chapters before turning in your assignment:\n",
                "\n",
                "- [Ch. 2.2 Git Basics](https://cjtu.github.io/spirl/git_basics.html)\n",
                "- [Ch. 3.3 Python Basic Data Types](https://cjtu.github.io/spirl/python_basic-types.html)\n",
                "- [Ch. 3.5 Functions](https://cjtu.github.io/spirl/python_functions.html)\n",
                "- [Ch. 4.1 Jupyter Notebooks](https://cjtu.github.io/spirl/sp_jupyter.html)\n",
                "- [Ch. 4.2 Numpy](https://cjtu.github.io/spirl/sp_numpy.html)\n",
                "\n",
                "## VS Code Setup\n",
                "\n",
                "**Extensions:** This week we will use the following *Extensions*. In Visual Studio Code, head to the Extensions icon in the left sidebar (icon with 4 squares) and search for / install:\n",
                "\n",
                "- `Python`\n",
                "- `GitHub Pull Requests and Issues`\n",
                "- `GitLens -- Git supercharged`\n",
                "\n",
                "They should appear under the heading **Installed** when they are ready.\n",
                "\n",
                "**Log in with GitHub:** Also click the Accounts icon in the left sidebar and are logged into your GitHub account. It should show:  `username (GitHub)` when you are signed in.\n",
                "\n",
                "You may need to reload the window after installing / signing in.\n",
                "\n",
                "```{note}\n",
                "You may reload VS Code at any time by pressing <kbd>⌃ Control</kbd> <kbd>⇧ Shift</kbd> <kbd>P</kbd> (Mac: <kbd>⌘ Command</kbd> <kbd>⇧ Shift</kbd> <kbd>P</kbd>), typing `Reload Window` and then pressing Enter. \n",
                "```\n"
            ],
            "metadata": {}
        },
        {
            "cell_type": "markdown",
            "source": [
                "## Free Fall\n",
                "\n",
                "$$\n",
                "H = \\frac{1}{2} g t^2\n",
                "$$\n",
                "\n",
                "We can compute math equations in Python just like we would using a calculator. We'll first define the variables `g` and `t` and then type the equation. We write the variables first because python executes code line by line. If we put the equation first, python would get mad because it wouldn't know what `g` and `t` were in the equation. So here's how we do this...\n",
                "\n",
                "For more info please see [3.3. Basic Data Types](https://cjtu.github.io/spirl/python_basic-types.html#).\n"
            ],
            "metadata": {}
        },
        {
            "cell_type": "code",
            "execution_count": null,
            "source": [
                "g_earth   = 9.80665     # m/s\r\n",
                "fall_time = 10          # sec\r\n",
                "\r\n",
                "H = (1/2) * g_earth * fall_time**2\r\n",
                "\r\n",
                "print(H)\r\n",
                "print('We will fall about {:1.2f} m on Earth after {:} sec'.format(H, fall_time))"
            ],
            "outputs": [],
            "metadata": {}
        },
        {
            "cell_type": "markdown",
            "source": [
                "## Python `list` vs. Numpy `array`\n",
                "\n",
                "What if we want to compute the falling height at several times?\n"
            ],
            "metadata": {}
        },
        {
            "cell_type": "code",
            "execution_count": null,
            "source": [
                "fall_time = [1, 2, 3, 4, 5, 6]  # [seconds]\r\n",
                "# the above is a python list\r\n",
                "\r\n",
                "H = (1/2) * g_earth * fall_time**2\r\n",
                "print(H)\r\n",
                "# cannot do calculations using a python list. how to fix: "
            ],
            "outputs": [],
            "metadata": {}
        },
        {
            "cell_type": "markdown",
            "source": [
                "Here we get an error because the python `list` does not allow us to do math on it directly. We will use a *NumPy* array instead!\n",
                "\n",
                "### What is NumPy?\n",
                "\n",
                "NumPy is a fundamental package for scientific computing in Python. It provides a mathematical array/matrix object that we can perform computations on! It also allows us to quickly select data or perform operations on arrays, including:\n",
                "\n",
                "- math (add/subtract, multiply/divide, dot/cross products, etc.)\n",
                "- logical (union, intersection, complement, etc.)\n",
                "- shape manipulation\n",
                "- sorting\n",
                "- reading/writing to files (I/O)\n",
                "- Fourier transforms\n",
                "- basic stats and curve fitting\n",
                "- random simulations\n",
                "- and much more...\n",
                "\n",
                "### Vectorization makes NumPy Fast!\n",
                "\n",
                "When working with NumPy arrays, most operations are optimized in **pre-compiled C code**. That means that without ever needing to learn the **C** programming language, you can use code that runs as fast and efficiently as C right from Python. Writing code that uses arrays rather than looping through each element is called **Vectorization** and can make your programs many times faster!\n",
                "\n",
                "Stay tuned for later weeks when we will practice converting loops into arrays.\n",
                "\n",
                "* Read more on NumPy official site: [https://numpy.org/doc/stable/](https://numpy.org/doc/stable/)\n",
                "* Read about the basics of NumPy on SPIRL: [Ch. 4.2 Numpy](https://cjtu.github.io/spirl/sp_numpy.html)\n",
                "\n",
                "### Using NumPy\n",
                "\n",
                "To use NumPy, we need to import the `numpy` library which is usually done like so:"
            ],
            "metadata": {}
        },
        {
            "cell_type": "code",
            "execution_count": 3,
            "source": [
                "import numpy as np\r\n",
                "# or, without an alias:\r\n",
                "# inport numpy\r\n",
                "#this lets you do calculations with python lists. automatically makes fractional outputs floats"
            ],
            "outputs": [],
            "metadata": {}
        },
        {
            "cell_type": "markdown",
            "source": [
                "We can convert a python list containing numbers (`int` and/or `float`) to a numpy array like so:"
            ],
            "metadata": {}
        },
        {
            "cell_type": "code",
            "execution_count": null,
            "source": [
                "python_list = [1, 2, 3, 4, 5, 6]\r\n",
                "\r\n",
                "# Converting a python list into a NumPy array\r\n",
                "numpy_array = np.array(python_list)"
            ],
            "outputs": [],
            "metadata": {}
        },
        {
            "cell_type": "markdown",
            "source": [
                "We can check the type of an object in Python with the `type()` function:"
            ],
            "metadata": {}
        },
        {
            "cell_type": "code",
            "execution_count": null,
            "source": [
                "print('Python type:', type(python_list))\r\n",
                "print('NumPy type:', type(numpy_array))"
            ],
            "outputs": [],
            "metadata": {}
        },
        {
            "cell_type": "markdown",
            "source": [
                "### List/Array/String Indexing\n",
                "\n",
                "We can index a NumPy array similarly to a Python `str` or `list` either from the front (starting at 0) or from the end (starting at -1).\n",
                "\n",
                "See more on SPIRL [3.3.7. Str indexing](https://cjtu.github.io/spirl/python_basic-types.html#str-indexing)\n",
                "\n",
                "![indexing](./images/indexing.png)\n",
                "\n",
                "For an array, our values are numbers instead of characters so if our array is\n",
                "\n",
                "`array = np.array([11, 22, 33, 44, 55])`\n",
                "\n",
                "We could access each element like:\n",
                "\n",
                "|                   |     |     |     |     |    |\n",
                "|-------------------|-----|-----|-----|-----|----|\n",
                "| Forward indexing  | 0   | 1   | 2   | 3   | 4  |\n",
                "| Array             | 11  | 22  | 33  | 44  | 55 |\n",
                "| Backward indexing | -5  | -4  | -3  | -2  | -1 |\n"
            ],
            "metadata": {}
        },
        {
            "cell_type": "code",
            "execution_count": 4,
            "source": [
                "test_list  = [11, 22, 33, 44, 55]\r\n",
                "test_array = np.array(test_list)\r\n",
                "\r\n",
                "print(test_list)\r\n",
                "print(test_array)"
            ],
            "outputs": [
                {
                    "output_type": "stream",
                    "name": "stdout",
                    "text": [
                        "[11, 22, 33, 44, 55]\n",
                        "[11 22 33 44 55]\n"
                    ]
                }
            ],
            "metadata": {}
        },
        {
            "cell_type": "code",
            "execution_count": null,
            "source": [
                "print(test_list[0])\r\n",
                "print(test_array[0])"
            ],
            "outputs": [],
            "metadata": {}
        },
        {
            "cell_type": "code",
            "execution_count": 5,
            "source": [
                "## What if you only want [22,33,44] ??\r\n",
                "test_array[1:4]"
            ],
            "outputs": [
                {
                    "output_type": "execute_result",
                    "data": {
                        "text/plain": [
                            "array([22, 33, 44])"
                        ]
                    },
                    "metadata": {},
                    "execution_count": 5
                }
            ],
            "metadata": {}
        },
        {
            "cell_type": "markdown",
            "source": [
                "### Array generation with NumPy\n",
                "\n",
                "There are many built-in NumPy functions that make it easy to make new arrays. For example:\n",
                "\n",
                "- `np.zeros()`: Make an array of all 0s\n",
                "- `np.ones()`: Make an array of all 1s\n",
                "- `np.arange()`: Make an array that ranges between two values increasing by a certain step size\n",
                "- `np.linspace()`: Make an array that ranges between two values and is a fixed length\n",
                "- `np.logspace()`: Make an array that ranges between two powers of 10, is a fixed length, and takes logarithmic step sizes\n",
                "- and more...\n",
                "\n",
                "Try it yourself, call `help(np.funcname)`, or google for more info!\n",
                "\n",
                "**(Demo do a search on np.arange)**"
            ],
            "metadata": {}
        },
        {
            "cell_type": "code",
            "execution_count": 6,
            "source": [
                "g_earth   = 9.80665                 # m/s\r\n",
                "fall_time = np.arange(0, 100, 5)    # sec ; (start, end, step size)\r\n",
                "\r\n",
                "H = (1/2) * g_earth * fall_time**2\r\n",
                "\r\n",
                "print(H)"
            ],
            "outputs": [
                {
                    "output_type": "stream",
                    "name": "stdout",
                    "text": [
                        "[    0.         122.583125   490.3325    1103.248125  1961.33\n",
                        "  3064.578125  4412.9925    6006.573125  7845.32      9929.233125\n",
                        " 12258.3125   14832.558125 17651.97     20716.548125 24026.2925\n",
                        " 27581.203125 31381.28     35426.523125 39716.9325   44252.508125]\n"
                    ]
                }
            ],
            "metadata": {}
        },
        {
            "cell_type": "code",
            "execution_count": 7,
            "source": [
                "H_delta = H[-1] - H[0] #change in height\r\n",
                "\r\n",
                "print(f'After {fall_time.max():1.0f} sec, we will fall {H_delta:1.2f} m on Earth' )"
            ],
            "outputs": [
                {
                    "output_type": "stream",
                    "name": "stdout",
                    "text": [
                        "After 95 sec, we will fall 44252.51 m on Earth\n"
                    ]
                }
            ],
            "metadata": {}
        },
        {
            "cell_type": "markdown",
            "source": [
                "## How to make a function\n",
                "\n",
                "$$\n",
                "{\\rm free\\_fall\\_h}(t) = \\frac{1}{2} g t^2\n",
                "$$\n",
                "\n",
                "Another way of computing this equation is by defining a *Function*. All functions are set up like `f(x)`, where `f` is the function name and `x` is the parameter that goes into the function.\n",
                "\n",
                "To define a function, we use the `def` command in Python. This line defines the function name and parameter(s). Any code in the *body* of the function must be indented and will only be run when the function is called. We will do our calculation in the function body and output the final result using the `return` command.\n",
                "\n",
                "See [Ch. 3.5 Functions](https://cjtu.github.io/spirl/python_functions.html) for more info.\n",
                "\n",
                "Let's define a function below:"
            ],
            "metadata": {}
        },
        {
            "cell_type": "code",
            "execution_count": 9,
            "source": [
                "# !! Indentation is very important in python !!\r\n",
                "\r\n",
                "def free_fall_h(t):\r\n",
                "    #everything that is run by function is inside of indentation/tab\r\n",
                "    g = 9.80665 # m/s\r\n",
                "    H = 0.5 * g * t**2\r\n",
                "    #parameters you want to be outputs:\r\n",
                "    return H"
            ],
            "outputs": [],
            "metadata": {}
        },
        {
            "cell_type": "markdown",
            "source": [
                "A final critical part of Python functions are the *docstrings*. A docstring tells future users of your code (including future you!) what your function does, what parameter(s) it takes and what it returns. Docstrings are denoted with triple quotes `\"\"\"`."
            ],
            "metadata": {}
        },
        {
            "cell_type": "code",
            "execution_count": 8,
            "source": [
                "def free_fall_h(t):\r\n",
                "    \"\"\"Return free fall distance given time t on Earth.\r\n",
                "\r\n",
                "    Args:\r\n",
                "        t (float or np.array): Time in [s]\r\n",
                "\r\n",
                "    Returns:\r\n",
                "        [float or np.array]: Free fall distance in [m]\r\n",
                "    \"\"\"\r\n",
                "    \r\n",
                "    g = 9.80665 # m/s\r\n",
                "    H = 0.5 * g * t**2\r\n",
                "    \r\n",
                "    return H"
            ],
            "outputs": [],
            "metadata": {}
        },
        {
            "cell_type": "code",
            "execution_count": 23,
            "source": [
                "fall_time = np.arange(0, 100, 5)\r\n",
                "\r\n",
                "height = free_fall_h(fall_time)\r\n",
                "height_delta = height[-1] - height[0]\r\n",
                "\r\n",
                "print(f'After {fall_time.max():1.0f} sec, we will fall {height_delta:1.2f} m on Earth' )"
            ],
            "outputs": [
                {
                    "output_type": "stream",
                    "name": "stdout",
                    "text": [
                        "After 95 sec, we will fall 44252.51 m on Earth\n"
                    ]
                }
            ],
            "metadata": {}
        },
        {
            "cell_type": "markdown",
            "source": [
                "## [hands-on] A Function with 2 Parameters\n",
                "\n",
                "Now that we've made a function with one parameter (`t` or time), let's try modifying `free_fall_h` to make it more general so we can calculate the fallen height on different planets with different `g` values. Hint: you'll now be creating an `f(x,y)` function with the following equation.\n",
                "\n",
                "$$\n",
                "{\\rm free\\_fall\\_h\\_grav}(t, g) = \\frac{1}{2} g t^2\n",
                "$$"
            ],
            "metadata": {}
        },
        {
            "cell_type": "code",
            "execution_count": 14,
            "source": [
                "def free_fall_h_grav(t,g):\r\n",
                "    \r\n",
                "    result = 0.5*g*(t**2)\r\n",
                "\r\n",
                "    return result"
            ],
            "outputs": [],
            "metadata": {}
        },
        {
            "cell_type": "markdown",
            "source": [
                "Now try using different values of g for different planets (provided below) to test if your free fall height gets larger or smaller with g:\n",
                "\n",
                "|  Planet | g ($m/s^2$) |\n",
                "|:-------:|:--------:|\n",
                "| Mercury |   3.61   |\n",
                "|  Venus  |   8.83   |\n",
                "|   Mars  |   3.75   |\n",
                "| Jupiter |   26.0   |\n",
                "|  Saturn |   11.2   |\n",
                "|  Uranus |   10.5   |\n",
                "| Neptune |   13.3   |\n",
                "|  Pluto  |   0.61   |\n",
                "\n",
                "[source](https://www.physicsclassroom.com/class/circles/Lesson-3/The-Value-of-g)"
            ],
            "metadata": {}
        },
        {
            "cell_type": "code",
            "execution_count": 19,
            "source": [
                "g = 9.80665 # m/s  <--- change me\r\n",
                "height = free_fall_h_grav(fall_time, g)\r\n",
                "\r\n",
                "print(f'After {height.max():1.0f} sec, we will fall {height_delta:1.2f} m')"
            ],
            "outputs": [
                {
                    "output_type": "stream",
                    "name": "stdout",
                    "text": [
                        "After 44253 sec, we will fall 44252.51 m\n"
                    ]
                }
            ],
            "metadata": {}
        },
        {
            "cell_type": "markdown",
            "source": [
                "## Saving our work with `git commit`\n",
                "\n",
                "1. Open `Source Control` side panel\n",
                "2. Click the `+` sign beside the file name to stage the changes\n",
                "3. Type in commit message, and then click `check box` above to `commit`\n",
                "\n",
                "Great! Now you have a *commit* (Git checkpoint) on your local computer."
            ],
            "metadata": {}
        },
        {
            "cell_type": "markdown",
            "source": [
                "## Free Fall -- plotting with `matplotlib.pyplot`\n",
                "\n",
                "We're now going to plot free fall times from the functions we've created above using matplotlib, which we import like so:"
            ],
            "metadata": {}
        },
        {
            "cell_type": "code",
            "execution_count": 11,
            "source": [
                "import matplotlib.pyplot as plt"
            ],
            "outputs": [],
            "metadata": {}
        },
        {
            "cell_type": "code",
            "execution_count": 25,
            "source": [
                "x = np.arange(0, 100, 5)\r\n",
                "y = free_fall_h(x)"
            ],
            "outputs": [],
            "metadata": {}
        },
        {
            "cell_type": "code",
            "execution_count": 27,
            "source": [
                "plt.figure(facecolor='white', dpi=100)\r\n",
                "\r\n",
                "plt.plot(x, y, '.-', ms=3, c='tab:blue') #(axis, axis, line style, mark size, color)\r\n",
                "plt.text(10, 30000, 'H(t)=$\\\\frac{1}{2}gt^2$', size=20) # \\\\ \r\n",
                "\r\n",
                "plt.title('Free fall curve on Earth')\r\n",
                "plt.ylabel('Distance [km]') \r\n",
                "plt.xlabel('Time [sec]') \r\n",
                "plt.show() #shows the plot"
            ],
            "outputs": [
                {
                    "output_type": "display_data",
                    "data": {
                        "image/png": "[encoded data removed]",
                        "text/plain": [
                            "<Figure size 640x480 with 1 Axes>"
                        ]
                    },
                    "metadata": {}
                },
                {
                    "output_type": "display_data",
                    "data": {
                        "image/png": "[encoded data removed]",
                        "text/plain": [
                            "<Figure size 640x480 with 1 Axes>"
                        ]
                    },
                    "metadata": {}
                }
            ],
            "metadata": {}
        },
        {
            "cell_type": "markdown",
            "source": [
                "### [Assignment] Plot Planck function\r\n",
                "\r\n",
                "Using what we learned today and the equation shown in the plot below, define the the Planck function and use it to plot the blackbody curves. Plot 4 blackbody curves with T = 6000, 5000, 4000, and 3000 K, and make sure you have the same axes scale and range as it shows in the figure below.\r\n",
                "\r\n",
                "> Be careful of the units on both axes.\r\n",
                "\r\n",
                "Note that $\\lambda$ is short for wavelength, $T$ is short for temperature and that you may need to google the following constants for your function (pay attention to units!):\r\n",
                "\r\n",
                "| Symbol | Meaning |\r\n",
                "| ------ | ------- |\r\n",
                "| $\\pi$ | Pi |\r\n",
                "| $c$ | Speed of light |\r\n",
                "| $h$ | Planck's constant |\r\n",
                "| $k$ | Boltzmann constant |\r\n",
                "\r\n",
                "(Optional): For an extra challenge, try to replicate the color and formatting of the plot shown below. You can find lots of `matplotlib` customization and plotting examples [here](https://matplotlib.org/stable/gallery/index.html).\r\n",
                "\r\n",
                "![Planck Function](https://github.com/cjtu/spirl/blob/master/spirl/images/f21/a1_planck.png?raw=true)"
            ],
            "metadata": {}
        },
        {
            "cell_type": "code",
            "execution_count": 14,
            "source": [
                "#import astropy modules\r\n",
                "#from astropy import constants as const\r\n",
                "import matplotlib.pyplot as plt\r\n",
                "import numpy as np"
            ],
            "outputs": [],
            "metadata": {}
        },
        {
            "cell_type": "code",
            "execution_count": 16,
            "source": [
                "def planck(wavelength,tempVals):\r\n",
                "    \"\"\"Return blackbody power density using the Planck function.\r\n",
                "\r\n",
                "    Parameters\r\n",
                "    ----------\r\n",
                "    wavelength (array): Wavelength in [nm]\r\n",
                "\r\n",
                "    Return\r\n",
                "    ------\r\n",
                "    radiance (array): Power density in [W/m^3]\r\n",
                "    \"\"\"\r\n",
                "    #constants\r\n",
                "    h = 6.63E-34\r\n",
                "    c = 3E8\r\n",
                "    k_B = 1.38E-23\r\n",
                "\r\n",
                "    exponentPower = (h*c)/(wavelength*k_B*tempVals)\r\n",
                "\r\n",
                "    radiance = ((2*np.pi*(c**2)*h)/(wavelength**5))*(1/((np.exp(exponentPower))-1))\r\n",
                "    \r\n",
                "    return radiance"
            ],
            "outputs": [],
            "metadata": {}
        },
        {
            "cell_type": "code",
            "execution_count": 17,
            "source": [
                "# Define your wavelength array and call planck function here\r\n",
                "x = np.arange(100, 2500, 500) #lamda ranges from 100 nm to 2500 nm w/ step size of 500 nm\r\n",
                "#x = np.arange(3000, 6000, 1000) #temperatures from 3000 K to 6000 K. step size is 1000 K\r\n",
                "\r\n",
                "y_one = planck(x,6000)\r\n",
                "y_two = planck(x,5000)\r\n",
                "y_three = planck(x,4000)\r\n",
                "y_four = planck(x,3000)\r\n",
                "\r\n",
                "# Make your plot here\r\n"
            ],
            "outputs": [
                {
                    "output_type": "error",
                    "ename": "UnitTypeError",
                    "evalue": "Can only apply 'exp' function to dimensionless quantities",
                    "traceback": [
                        "\u001b[1;31m---------------------------------------------------------------------------\u001b[0m",
                        "\u001b[1;31mUnitConversionError\u001b[0m                       Traceback (most recent call last)",
                        "\u001b[1;32m~\\Anaconda3\\lib\\site-packages\\astropy\\units\\quantity_helper\\helpers.py\u001b[0m in \u001b[0;36mhelper_dimensionless_to_dimensionless\u001b[1;34m(f, unit)\u001b[0m\n\u001b[0;32m    137\u001b[0m     \u001b[1;32mtry\u001b[0m\u001b[1;33m:\u001b[0m\u001b[1;33m\u001b[0m\u001b[1;33m\u001b[0m\u001b[0m\n\u001b[1;32m--> 138\u001b[1;33m         return ([get_converter(unit, dimensionless_unscaled)],\n\u001b[0m\u001b[0;32m    139\u001b[0m                 dimensionless_unscaled)\n",
                        "\u001b[1;32m~\\Anaconda3\\lib\\site-packages\\astropy\\units\\quantity_helper\\helpers.py\u001b[0m in \u001b[0;36mget_converter\u001b[1;34m(from_unit, to_unit)\u001b[0m\n\u001b[0;32m     31\u001b[0m     i.e., if the inferred scale is unity.\"\"\"\n\u001b[1;32m---> 32\u001b[1;33m     \u001b[0mconverter\u001b[0m \u001b[1;33m=\u001b[0m \u001b[0mfrom_unit\u001b[0m\u001b[1;33m.\u001b[0m\u001b[0m_get_converter\u001b[0m\u001b[1;33m(\u001b[0m\u001b[0mto_unit\u001b[0m\u001b[1;33m)\u001b[0m\u001b[1;33m\u001b[0m\u001b[1;33m\u001b[0m\u001b[0m\n\u001b[0m\u001b[0;32m     33\u001b[0m     \u001b[1;32mreturn\u001b[0m \u001b[1;32mNone\u001b[0m \u001b[1;32mif\u001b[0m \u001b[0mconverter\u001b[0m \u001b[1;32mis\u001b[0m \u001b[0munit_scale_converter\u001b[0m \u001b[1;32melse\u001b[0m \u001b[0mconverter\u001b[0m\u001b[1;33m\u001b[0m\u001b[1;33m\u001b[0m\u001b[0m\n",
                        "\u001b[1;32m~\\Anaconda3\\lib\\site-packages\\astropy\\units\\core.py\u001b[0m in \u001b[0;36m_get_converter\u001b[1;34m(self, other, equivalencies)\u001b[0m\n\u001b[0;32m   1056\u001b[0m \u001b[1;33m\u001b[0m\u001b[0m\n\u001b[1;32m-> 1057\u001b[1;33m             \u001b[1;32mraise\u001b[0m \u001b[0mexc\u001b[0m\u001b[1;33m\u001b[0m\u001b[1;33m\u001b[0m\u001b[0m\n\u001b[0m\u001b[0;32m   1058\u001b[0m \u001b[1;33m\u001b[0m\u001b[0m\n",
                        "\u001b[1;32m~\\Anaconda3\\lib\\site-packages\\astropy\\units\\core.py\u001b[0m in \u001b[0;36m_get_converter\u001b[1;34m(self, other, equivalencies)\u001b[0m\n\u001b[0;32m   1041\u001b[0m         \u001b[1;32mtry\u001b[0m\u001b[1;33m:\u001b[0m\u001b[1;33m\u001b[0m\u001b[1;33m\u001b[0m\u001b[0m\n\u001b[1;32m-> 1042\u001b[1;33m             return self._apply_equivalencies(\n\u001b[0m\u001b[0;32m   1043\u001b[0m                 self, other, self._normalize_equivalencies(equivalencies))\n",
                        "\u001b[1;32m~\\Anaconda3\\lib\\site-packages\\astropy\\units\\core.py\u001b[0m in \u001b[0;36m_apply_equivalencies\u001b[1;34m(self, unit, other, equivalencies)\u001b[0m\n\u001b[0;32m   1017\u001b[0m \u001b[1;33m\u001b[0m\u001b[0m\n\u001b[1;32m-> 1018\u001b[1;33m         raise UnitConversionError(\n\u001b[0m\u001b[0;32m   1019\u001b[0m             f\"{unit_str} and {other_str} are not convertible\")\n",
                        "\u001b[1;31mUnitConversionError\u001b[0m: 'K m' and '' (dimensionless) are not convertible",
                        "\nDuring handling of the above exception, another exception occurred:\n",
                        "\u001b[1;31mUnitTypeError\u001b[0m                             Traceback (most recent call last)",
                        "\u001b[1;32m<ipython-input-17-ac34807bc3ec>\u001b[0m in \u001b[0;36m<module>\u001b[1;34m\u001b[0m\n\u001b[0;32m      3\u001b[0m \u001b[1;31m#x = np.arange(3000, 6000, 1000) #temperatures from 3000 K to 6000 K. step size is 1000 K\u001b[0m\u001b[1;33m\u001b[0m\u001b[1;33m\u001b[0m\u001b[1;33m\u001b[0m\u001b[0m\n\u001b[0;32m      4\u001b[0m \u001b[1;33m\u001b[0m\u001b[0m\n\u001b[1;32m----> 5\u001b[1;33m \u001b[0my_one\u001b[0m \u001b[1;33m=\u001b[0m \u001b[0mplanck\u001b[0m\u001b[1;33m(\u001b[0m\u001b[0mx\u001b[0m\u001b[1;33m,\u001b[0m\u001b[1;36m6000\u001b[0m\u001b[1;33m)\u001b[0m\u001b[1;33m\u001b[0m\u001b[1;33m\u001b[0m\u001b[0m\n\u001b[0m\u001b[0;32m      6\u001b[0m \u001b[0my_two\u001b[0m \u001b[1;33m=\u001b[0m \u001b[0mplanck\u001b[0m\u001b[1;33m(\u001b[0m\u001b[0mx\u001b[0m\u001b[1;33m,\u001b[0m\u001b[1;36m5000\u001b[0m\u001b[1;33m)\u001b[0m\u001b[1;33m\u001b[0m\u001b[1;33m\u001b[0m\u001b[0m\n\u001b[0;32m      7\u001b[0m \u001b[0my_three\u001b[0m \u001b[1;33m=\u001b[0m \u001b[0mplanck\u001b[0m\u001b[1;33m(\u001b[0m\u001b[0mx\u001b[0m\u001b[1;33m,\u001b[0m\u001b[1;36m4000\u001b[0m\u001b[1;33m)\u001b[0m\u001b[1;33m\u001b[0m\u001b[1;33m\u001b[0m\u001b[0m\n",
                        "\u001b[1;32m<ipython-input-16-b7348fc579c3>\u001b[0m in \u001b[0;36mplanck\u001b[1;34m(wavelength, tempVals)\u001b[0m\n\u001b[0;32m     13\u001b[0m     \u001b[0mexponentPower\u001b[0m \u001b[1;33m=\u001b[0m \u001b[1;33m(\u001b[0m\u001b[0mconst\u001b[0m\u001b[1;33m.\u001b[0m\u001b[0mh\u001b[0m\u001b[1;33m*\u001b[0m\u001b[0mconst\u001b[0m\u001b[1;33m.\u001b[0m\u001b[0mc\u001b[0m\u001b[1;33m)\u001b[0m\u001b[1;33m/\u001b[0m\u001b[1;33m(\u001b[0m\u001b[0mwavelength\u001b[0m\u001b[1;33m*\u001b[0m\u001b[0mconst\u001b[0m\u001b[1;33m.\u001b[0m\u001b[0mk_B\u001b[0m\u001b[1;33m*\u001b[0m\u001b[0mtempVals\u001b[0m\u001b[1;33m)\u001b[0m\u001b[1;33m\u001b[0m\u001b[1;33m\u001b[0m\u001b[0m\n\u001b[0;32m     14\u001b[0m \u001b[1;33m\u001b[0m\u001b[0m\n\u001b[1;32m---> 15\u001b[1;33m     \u001b[0mradiance\u001b[0m \u001b[1;33m=\u001b[0m \u001b[1;33m(\u001b[0m\u001b[1;33m(\u001b[0m\u001b[1;36m2\u001b[0m\u001b[1;33m*\u001b[0m\u001b[0mnp\u001b[0m\u001b[1;33m.\u001b[0m\u001b[0mpi\u001b[0m\u001b[1;33m*\u001b[0m\u001b[1;33m(\u001b[0m\u001b[0mconst\u001b[0m\u001b[1;33m.\u001b[0m\u001b[0mc\u001b[0m\u001b[1;33m**\u001b[0m\u001b[1;36m2\u001b[0m\u001b[1;33m)\u001b[0m\u001b[1;33m*\u001b[0m\u001b[0mconst\u001b[0m\u001b[1;33m.\u001b[0m\u001b[0mh\u001b[0m\u001b[1;33m)\u001b[0m\u001b[1;33m/\u001b[0m\u001b[1;33m(\u001b[0m\u001b[0mwavelength\u001b[0m\u001b[1;33m**\u001b[0m\u001b[1;36m5\u001b[0m\u001b[1;33m)\u001b[0m\u001b[1;33m)\u001b[0m\u001b[1;33m*\u001b[0m\u001b[1;33m(\u001b[0m\u001b[1;36m1\u001b[0m\u001b[1;33m/\u001b[0m\u001b[1;33m(\u001b[0m\u001b[1;33m(\u001b[0m\u001b[0mnp\u001b[0m\u001b[1;33m.\u001b[0m\u001b[0mexp\u001b[0m\u001b[1;33m(\u001b[0m\u001b[0mexponentPower\u001b[0m\u001b[1;33m)\u001b[0m\u001b[1;33m)\u001b[0m\u001b[1;33m-\u001b[0m\u001b[1;36m1\u001b[0m\u001b[1;33m)\u001b[0m\u001b[1;33m)\u001b[0m\u001b[1;33m\u001b[0m\u001b[1;33m\u001b[0m\u001b[0m\n\u001b[0m\u001b[0;32m     16\u001b[0m \u001b[1;33m\u001b[0m\u001b[0m\n\u001b[0;32m     17\u001b[0m     \u001b[1;32mreturn\u001b[0m \u001b[0mradiance\u001b[0m\u001b[1;33m\u001b[0m\u001b[1;33m\u001b[0m\u001b[0m\n",
                        "\u001b[1;32m~\\Anaconda3\\lib\\site-packages\\astropy\\units\\quantity.py\u001b[0m in \u001b[0;36m__array_ufunc__\u001b[1;34m(self, function, method, *inputs, **kwargs)\u001b[0m\n\u001b[0;32m    464\u001b[0m         \u001b[1;31m# consistent units between two inputs (e.g., in np.add) --\u001b[0m\u001b[1;33m\u001b[0m\u001b[1;33m\u001b[0m\u001b[1;33m\u001b[0m\u001b[0m\n\u001b[0;32m    465\u001b[0m         \u001b[1;31m# and the unit of the result (or tuple of units for nout > 1).\u001b[0m\u001b[1;33m\u001b[0m\u001b[1;33m\u001b[0m\u001b[1;33m\u001b[0m\u001b[0m\n\u001b[1;32m--> 466\u001b[1;33m         \u001b[0mconverters\u001b[0m\u001b[1;33m,\u001b[0m \u001b[0munit\u001b[0m \u001b[1;33m=\u001b[0m \u001b[0mconverters_and_unit\u001b[0m\u001b[1;33m(\u001b[0m\u001b[0mfunction\u001b[0m\u001b[1;33m,\u001b[0m \u001b[0mmethod\u001b[0m\u001b[1;33m,\u001b[0m \u001b[1;33m*\u001b[0m\u001b[0minputs\u001b[0m\u001b[1;33m)\u001b[0m\u001b[1;33m\u001b[0m\u001b[1;33m\u001b[0m\u001b[0m\n\u001b[0m\u001b[0;32m    467\u001b[0m \u001b[1;33m\u001b[0m\u001b[0m\n\u001b[0;32m    468\u001b[0m         \u001b[0mout\u001b[0m \u001b[1;33m=\u001b[0m \u001b[0mkwargs\u001b[0m\u001b[1;33m.\u001b[0m\u001b[0mget\u001b[0m\u001b[1;33m(\u001b[0m\u001b[1;34m'out'\u001b[0m\u001b[1;33m,\u001b[0m \u001b[1;32mNone\u001b[0m\u001b[1;33m)\u001b[0m\u001b[1;33m\u001b[0m\u001b[1;33m\u001b[0m\u001b[0m\n",
                        "\u001b[1;32m~\\Anaconda3\\lib\\site-packages\\astropy\\units\\quantity_helper\\converters.py\u001b[0m in \u001b[0;36mconverters_and_unit\u001b[1;34m(function, method, *args)\u001b[0m\n\u001b[0;32m    172\u001b[0m \u001b[1;33m\u001b[0m\u001b[0m\n\u001b[0;32m    173\u001b[0m         \u001b[1;31m# Determine possible conversion functions, and the result unit.\u001b[0m\u001b[1;33m\u001b[0m\u001b[1;33m\u001b[0m\u001b[1;33m\u001b[0m\u001b[0m\n\u001b[1;32m--> 174\u001b[1;33m         \u001b[0mconverters\u001b[0m\u001b[1;33m,\u001b[0m \u001b[0mresult_unit\u001b[0m \u001b[1;33m=\u001b[0m \u001b[0mufunc_helper\u001b[0m\u001b[1;33m(\u001b[0m\u001b[0mfunction\u001b[0m\u001b[1;33m,\u001b[0m \u001b[1;33m*\u001b[0m\u001b[0munits\u001b[0m\u001b[1;33m)\u001b[0m\u001b[1;33m\u001b[0m\u001b[1;33m\u001b[0m\u001b[0m\n\u001b[0m\u001b[0;32m    175\u001b[0m \u001b[1;33m\u001b[0m\u001b[0m\n\u001b[0;32m    176\u001b[0m         \u001b[1;32mif\u001b[0m \u001b[0many\u001b[0m\u001b[1;33m(\u001b[0m\u001b[0mconverter\u001b[0m \u001b[1;32mis\u001b[0m \u001b[1;32mFalse\u001b[0m \u001b[1;32mfor\u001b[0m \u001b[0mconverter\u001b[0m \u001b[1;32min\u001b[0m \u001b[0mconverters\u001b[0m\u001b[1;33m)\u001b[0m\u001b[1;33m:\u001b[0m\u001b[1;33m\u001b[0m\u001b[1;33m\u001b[0m\u001b[0m\n",
                        "\u001b[1;32m~\\Anaconda3\\lib\\site-packages\\astropy\\units\\quantity_helper\\helpers.py\u001b[0m in \u001b[0;36mhelper_dimensionless_to_dimensionless\u001b[1;34m(f, unit)\u001b[0m\n\u001b[0;32m    139\u001b[0m                 dimensionless_unscaled)\n\u001b[0;32m    140\u001b[0m     \u001b[1;32mexcept\u001b[0m \u001b[0mUnitsError\u001b[0m\u001b[1;33m:\u001b[0m\u001b[1;33m\u001b[0m\u001b[1;33m\u001b[0m\u001b[0m\n\u001b[1;32m--> 141\u001b[1;33m         raise UnitTypeError(\"Can only apply '{}' function to \"\n\u001b[0m\u001b[0;32m    142\u001b[0m                             \u001b[1;34m\"dimensionless quantities\"\u001b[0m\u001b[1;33m\u001b[0m\u001b[1;33m\u001b[0m\u001b[0m\n\u001b[0;32m    143\u001b[0m                             .format(f.__name__))\n",
                        "\u001b[1;31mUnitTypeError\u001b[0m: Can only apply 'exp' function to dimensionless quantities"
                    ]
                }
            ],
            "metadata": {}
        },
        {
            "cell_type": "markdown",
            "source": [
                "(Optional) For more practice or to learn some handy Astropy tips, check out the [Assignment 1 (BONUS)](https://cjtu.github.io/spirl/f21_a1_bonus.html) on the next page.\n",
                "\n",
                "When you are done with your assignment, make sure to:\n",
                "\n",
                "- Stage your changes with `+`\n",
                "- Commit your changes with a descriptive message with `checkmark`\n",
                "- Push your changes to your fork with `... menu -> push`\n",
                "- **[Do it once only]** Open a Pull Request on the source control tab (make sure to choose the remote branch with **your username** from the dropdown!)\n",
                "\n",
                "Review the submission guide [here](https://cjtu.github.io/spirl/f21_assignments.html#submitting-assignments-as-pull-requests) or reach out on the #help channel on Slack if you have any questions!"
            ],
            "metadata": {}
        },
        {
            "cell_type": "markdown",
            "source": [],
            "metadata": {}
        }
    ],
    "metadata": {
        "orig_nbformat": 4,
        "language_info": {
            "name": "python",
            "version": "3.8.8",
            "mimetype": "text/x-python",
            "codemirror_mode": {
                "name": "ipython",
                "version": 3
            },
            "pygments_lexer": "ipython3",
            "nbconvert_exporter": "python",
            "file_extension": ".py"
        },
        "kernelspec": {
            "name": "python3",
            "display_name": "Python 3.8.8 64-bit ('base': conda)"
        },
        "interpreter": {
            "hash": "46410242d7c0624b7ce071695da655d41f043ff6b79179977d9ab008e2678e4b"
        }
    },
    "nbformat": 4,
    "nbformat_minor": 2
}