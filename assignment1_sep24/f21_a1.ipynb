{
    "cells": [
        {
            "cell_type": "markdown",
            "source": [
                "# Assignment 1 (Sep 21)\n",
                "\n",
                "Welcome to assignment 1! In class we will cover the following topics:\n",
                "\n",
                "```{note}\n",
                "Lecture recording links will be uploaded after each class to the syllabus [here](https://cjtu.github.io/spirl/f21_about.html).\n",
                "```\n",
                "\n",
                "1. Quick Jupyter interface tour\n",
                "2. Difference between a `list` and a `numpy.array` in python\n",
                "3. How to make a function\n",
                "4. Simple plotting with `matplotlib.pyplot`\n",
                "\n",
                "## Readings (optional)\n",
                "\n",
                "If you find this week's material new or challenging, you may want to read through some or all the following SPIRL chapters before turning in your assignment:\n",
                "\n",
                "- [Ch. 2.2 Git Basics](https://cjtu.github.io/spirl/git_basics.html)\n",
                "- [Ch. 3.3 Python Basic Data Types](https://cjtu.github.io/spirl/python_basic-types.html)\n",
                "- [Ch. 3.5 Functions](https://cjtu.github.io/spirl/python_functions.html)\n",
                "- [Ch. 4.1 Jupyter Notebooks](https://cjtu.github.io/spirl/sp_jupyter.html)\n",
                "- [Ch. 4.2 Numpy](https://cjtu.github.io/spirl/sp_numpy.html)\n",
                "\n",
                "## VS Code Setup\n",
                "\n",
                "**Extensions:** This week we will use the following *Extensions*. In Visual Studio Code, head to the Extensions icon in the left sidebar (icon with 4 squares) and search for / install:\n",
                "\n",
                "- `Python`\n",
                "- `GitHub Pull Requests and Issues`\n",
                "- `GitLens -- Git supercharged`\n",
                "\n",
                "They should appear under the heading **Installed** when they are ready.\n",
                "\n",
                "**Log in with GitHub:** Also click the Accounts icon in the left sidebar and are logged into your GitHub account. It should show:  `username (GitHub)` when you are signed in.\n",
                "\n",
                "You may need to reload the window after installing / signing in.\n",
                "\n",
                "```{note}\n",
                "You may reload VS Code at any time by pressing <kbd>⌃ Control</kbd> <kbd>⇧ Shift</kbd> <kbd>P</kbd> (Mac: <kbd>⌘ Command</kbd> <kbd>⇧ Shift</kbd> <kbd>P</kbd>), typing `Reload Window` and then pressing Enter. \n",
                "```\n"
            ],
            "metadata": {}
        },
        {
            "cell_type": "markdown",
            "source": [
                "## Free Fall\n",
                "\n",
                "$$\n",
                "H = \\frac{1}{2} g t^2\n",
                "$$\n",
                "\n",
                "We can compute math equations in Python just like we would using a calculator. We'll first define the variables `g` and `t` and then type the equation. We write the variables first because python executes code line by line. If we put the equation first, python would get mad because it wouldn't know what `g` and `t` were in the equation. So here's how we do this...\n",
                "\n",
                "For more info please see [3.3. Basic Data Types](https://cjtu.github.io/spirl/python_basic-types.html#).\n"
            ],
            "metadata": {}
        },
        {
            "cell_type": "code",
            "execution_count": 212,
            "source": [
                "g_earth   = 9.80665     # m/s\r\n",
                "fall_time = 10          # sec\r\n",
                "\r\n",
                "H = (1/2) * g_earth * fall_time**2\r\n",
                "\r\n",
                "# print(H)\r\n",
                "print('We will fall about {:1.2f} m on Earth after {:} sec'.format(H, fall_time))"
            ],
            "outputs": [
                {
                    "output_type": "stream",
                    "name": "stdout",
                    "text": [
                        "We will fall about 490.33 m on Earth after 10 sec\n"
                    ]
                }
            ],
            "metadata": {}
        },
        {
            "cell_type": "markdown",
            "source": [
                "## Python `list` vs. Numpy `array`\n",
                "\n",
                "What if we want to compute the falling height at several times?\n"
            ],
            "metadata": {}
        },
        {
            "cell_type": "code",
            "execution_count": 213,
            "source": [
                "#fall_time = [1, 2, 3, 4, 5, 6]  # [seconds]\r\n",
                "\r\n",
                "\r\n",
                "#H = (1/2) * g_earth * fall_time**2\r\n",
                "#print(H)"
            ],
            "outputs": [],
            "metadata": {}
        },
        {
            "cell_type": "markdown",
            "source": [
                "Here we get an error because the python `list` does not allow us to do math on it directly. We will use a *NumPy* array instead!\n",
                "\n",
                "### What is NumPy?\n",
                "\n",
                "NumPy is a fundamental package for scientific computing in Python. It provides a mathematical array/matrix object that we can perform computations on! It also allows us to quickly select data or perform operations on arrays, including:\n",
                "\n",
                "- math (add/subtract, multiply/divide, dot/cross products, etc.)\n",
                "- logical (union, intersection, complement, etc.)\n",
                "- shape manipulation\n",
                "- sorting\n",
                "- reading/writing to files (I/O)\n",
                "- Fourier transforms\n",
                "- basic stats and curve fitting\n",
                "- random simulations\n",
                "- and much more...\n",
                "\n",
                "### Vectorization makes NumPy Fast!\n",
                "\n",
                "When working with NumPy arrays, most operations are optimized in **pre-compiled C code**. That means that without ever needing to learn the **C** programming language, you can use code that runs as fast and efficiently as C right from Python. Writing code that uses arrays rather than looping through each element is called **Vectorization** and can make your programs many times faster!\n",
                "\n",
                "Stay tuned for later weeks when we will practice converting loops into arrays.\n",
                "\n",
                "* Read more on NumPy official site: [https://numpy.org/doc/stable/](https://numpy.org/doc/stable/)\n",
                "* Read about the basics of NumPy on SPIRL: [Ch. 4.2 Numpy](https://cjtu.github.io/spirl/sp_numpy.html)\n",
                "\n",
                "### Using NumPy\n",
                "\n",
                "To use NumPy, we need to import the `numpy` library which is usually done like so:"
            ],
            "metadata": {}
        },
        {
            "cell_type": "code",
            "execution_count": 214,
            "source": [
                "import numpy as np"
            ],
            "outputs": [],
            "metadata": {}
        },
        {
            "cell_type": "markdown",
            "source": [
                "We can convert a python list containing numbers (`int` and/or `float`) to a numpy array like so:"
            ],
            "metadata": {}
        },
        {
            "cell_type": "code",
            "execution_count": 215,
            "source": [
                "python_list = [1, 2, 3, 4, 5, 6]\r\n",
                "\r\n",
                "# Converting a python list into a NumPy array\r\n",
                "numpy_array = np.array(python_list)\r\n",
                "print(numpy_array) #testing array"
            ],
            "outputs": [
                {
                    "output_type": "stream",
                    "name": "stdout",
                    "text": [
                        "[1 2 3 4 5 6]\n"
                    ]
                }
            ],
            "metadata": {}
        },
        {
            "cell_type": "markdown",
            "source": [
                "We can check the type of an object in Python with the `type()` function:"
            ],
            "metadata": {}
        },
        {
            "cell_type": "code",
            "execution_count": 216,
            "source": [
                "print('Python type:', type(python_list))\r\n",
                "print('NumPy type:', type(numpy_array))"
            ],
            "outputs": [
                {
                    "output_type": "stream",
                    "name": "stdout",
                    "text": [
                        "Python type: <class 'list'>\n",
                        "NumPy type: <class 'numpy.ndarray'>\n"
                    ]
                }
            ],
            "metadata": {}
        },
        {
            "cell_type": "code",
            "execution_count": 217,
            "source": [
                "test_list  = [11, 22, 33, 44, 55]\r\n",
                "test_array = np.array(test_list)\r\n",
                "\r\n",
                "print(test_list)\r\n",
                "print(test_array)"
            ],
            "outputs": [
                {
                    "output_type": "stream",
                    "name": "stdout",
                    "text": [
                        "[11, 22, 33, 44, 55]\n",
                        "[11 22 33 44 55]\n"
                    ]
                }
            ],
            "metadata": {}
        },
        {
            "cell_type": "code",
            "execution_count": 218,
            "source": [
                "print(test_list[0])\r\n",
                "print(test_array[0])"
            ],
            "outputs": [
                {
                    "output_type": "stream",
                    "name": "stdout",
                    "text": [
                        "11\n",
                        "11\n"
                    ]
                }
            ],
            "metadata": {}
        },
        {
            "cell_type": "code",
            "execution_count": 219,
            "source": [
                "## What if you only want [22,33,44] ??\r\n",
                "print(test_array[1:4]) #use colon for range"
            ],
            "outputs": [
                {
                    "output_type": "stream",
                    "name": "stdout",
                    "text": [
                        "[22 33 44]\n"
                    ]
                }
            ],
            "metadata": {}
        },
        {
            "cell_type": "markdown",
            "source": [
                "### Array generation with NumPy\n",
                "\n",
                "There are many built-in NumPy functions that make it easy to make new arrays. For example:\n",
                "\n",
                "- `np.zeros()`: Make an array of all 0s\n",
                "- `np.ones()`: Make an array of all 1s\n",
                "- `np.arange()`: Make an array that ranges between two values increasing by a certain step size\n",
                "- `np.linspace()`: Make an array that ranges between two values and is a fixed length\n",
                "- `np.logspace()`: Make an array that ranges between two powers of 10, is a fixed length, and takes logarithmic step sizes\n",
                "- and more...\n",
                "\n",
                "Try it yourself, call `help(np.funcname)`, or google for more info!\n",
                "\n",
                "**(Demo do a search on np.arange)**"
            ],
            "metadata": {}
        },
        {
            "cell_type": "code",
            "execution_count": 220,
            "source": [
                "g_earth   = 9.80665                 # m/s\r\n",
                "fall_time = np.arange(0, 105, 5)    # sec\r\n",
                "\r\n",
                "H = (1/2)*g_earth*fall_time**2 #equation using one static variable and one array\r\n",
                "\r\n",
                "print(fall_time) #0 through 100 in increments of 5\r\n",
                "print(H) #produces a list (or is it an array?) of all values in the associated array\r\n",
                "print('NumPy type:', type(H)) #confirming object type - it produces an array!"
            ],
            "outputs": [
                {
                    "output_type": "stream",
                    "name": "stdout",
                    "text": [
                        "[  0   5  10  15  20  25  30  35  40  45  50  55  60  65  70  75  80  85\n",
                        "  90  95 100]\n",
                        "[    0.         122.583125   490.3325    1103.248125  1961.33\n",
                        "  3064.578125  4412.9925    6006.573125  7845.32      9929.233125\n",
                        " 12258.3125   14832.558125 17651.97     20716.548125 24026.2925\n",
                        " 27581.203125 31381.28     35426.523125 39716.9325   44252.508125\n",
                        " 49033.25    ]\n",
                        "NumPy type: <class 'numpy.ndarray'>\n"
                    ]
                }
            ],
            "metadata": {}
        },
        {
            "cell_type": "code",
            "execution_count": 221,
            "source": [
                "H_delta = H[-1] - H[0] #H[-1] calls first value in array from the reverse direction\r\n",
                "\r\n",
                "print(f'After {fall_time.max():1.0f} sec, we will fall {H_delta:1.2f} m on Earth' ) #arrayName.max calls max value in array"
            ],
            "outputs": [
                {
                    "output_type": "stream",
                    "name": "stdout",
                    "text": [
                        "After 100 sec, we will fall 49033.25 m on Earth\n"
                    ]
                }
            ],
            "metadata": {}
        },
        {
            "cell_type": "markdown",
            "source": [
                "## How to make a function\n",
                "\n",
                "$$\n",
                "{\\rm free\\_fall\\_h}(t) = \\frac{1}{2} g t^2\n",
                "$$\n",
                "\n",
                "Another way of computing this equation is by defining a *Function*. All functions are set up like `f(x)`, where `f` is the function name and `x` is the parameter that goes into the function.\n",
                "\n",
                "To define a function, we use the `def` command in Python. This line defines the function name and parameter(s). Any code in the *body* of the function must be indented and will only be run when the function is called. We will do our calculation in the function body and output the final result using the `return` command.\n",
                "\n",
                "See [Ch. 3.5 Functions](https://cjtu.github.io/spirl/python_functions.html) for more info.\n",
                "\n",
                "Let's define a function below:"
            ],
            "metadata": {}
        },
        {
            "cell_type": "code",
            "execution_count": 222,
            "source": [
                "# !! Indentation is very important in python !!\r\n",
                "\r\n",
                "def free_fall_h(t):\r\n",
                "    \r\n",
                "    g = 9.80665 # m/s\r\n",
                "    H = 0.5 * g * t**2\r\n",
                "    \r\n",
                "    return H\r\n",
                "print(H) #original array H\r\n",
                "print(free_fall_h(H)) #inputs values from array H into variable t in free_fall_h(t) - NOT what we want. \r\n",
                "print(free_fall_h(fall_time)) #inputs values from fall time array into free_fall_h(t) (confirmed by changing H equation in function)"
            ],
            "outputs": [
                {
                    "output_type": "stream",
                    "name": "stdout",
                    "text": [
                        "[    0.         122.583125   490.3325    1103.248125  1961.33\n",
                        "  3064.578125  4412.9925    6006.573125  7845.32      9929.233125\n",
                        " 12258.3125   14832.558125 17651.97     20716.548125 24026.2925\n",
                        " 27581.203125 31381.28     35426.523125 39716.9325   44252.508125\n",
                        " 49033.25    ]\n",
                        "[0.00000000e+00 7.36804139e+04 1.17888662e+06 5.96811353e+06\n",
                        " 1.88621860e+07 4.60502587e+07 9.54898165e+07 1.76906674e+08\n",
                        " 3.01794975e+08 4.83417196e+08 7.36804139e+08 1.07875494e+09\n",
                        " 1.52783706e+09 2.10438630e+09 2.83050678e+09 3.73007096e+09\n",
                        " 4.82871961e+09 6.15386185e+09 7.73467513e+09 9.60210523e+09\n",
                        " 1.17888662e+10]\n",
                        "[    0.         122.583125   490.3325    1103.248125  1961.33\n",
                        "  3064.578125  4412.9925    6006.573125  7845.32      9929.233125\n",
                        " 12258.3125   14832.558125 17651.97     20716.548125 24026.2925\n",
                        " 27581.203125 31381.28     35426.523125 39716.9325   44252.508125\n",
                        " 49033.25    ]\n"
                    ]
                }
            ],
            "metadata": {}
        },
        {
            "cell_type": "markdown",
            "source": [
                "A final critical part of Python functions are the *docstrings*. A docstring tells future users of your code (including future you!) what your function does, what parameter(s) it takes and what it returns. Docstrings are denoted with triple quotes `\"\"\"`."
            ],
            "metadata": {}
        },
        {
            "cell_type": "code",
            "execution_count": 223,
            "source": [
                "def free_fall_h(t):\r\n",
                "    \"\"\"Return free fall distance given time t on Earth.\r\n",
                "\r\n",
                "    Args:\r\n",
                "        t (float or np.array): Time in [s]\r\n",
                "\r\n",
                "    Returns:\r\n",
                "        [float or np.array]: Free fall distance in [m]\r\n",
                "    \"\"\"\r\n",
                "    \r\n",
                "    g = 9.80665 # m/s\r\n",
                "    H = 0.5 * g * t**2\r\n",
                "    \r\n",
                "    return H"
            ],
            "outputs": [],
            "metadata": {}
        },
        {
            "cell_type": "code",
            "execution_count": 224,
            "source": [
                "fall_time = np.arange(0, 100, 5)\r\n",
                "\r\n",
                "height = free_fall_h(fall_time) #inputs values from array fall_time into t for function free_fall_h(t)\r\n",
                "height_delta = height[-1] - height[0]\r\n",
                "\r\n",
                "print(f'After {fall_time.max():1.0f} sec, we will fall {height_delta:1.2f} m on Earth' )"
            ],
            "outputs": [
                {
                    "output_type": "stream",
                    "name": "stdout",
                    "text": [
                        "After 95 sec, we will fall 44252.51 m on Earth\n"
                    ]
                }
            ],
            "metadata": {}
        },
        {
            "cell_type": "markdown",
            "source": [
                "## [hands-on] A Function with 2 Parameters\n",
                "\n",
                "Now that we've made a function with one parameter (`t` or time), let's try modifying `free_fall_h` to make it more general so we can calculate the fallen height on different planets with different `g` values. Hint: you'll now be creating an `f(x,y)` function with the following equation.\n",
                "\n",
                "$$\n",
                "{\\rm free\\_fall\\_h\\_grav}(t, g) = \\frac{1}{2} g t^2\n",
                "$$"
            ],
            "metadata": {}
        },
        {
            "cell_type": "code",
            "execution_count": 279,
            "source": [
                "#grav = np.array[3.61, 8.83, 9.81, 3.75, 26.0, 11.2, 10.5, 13.3, 0.61] #trying to use an array of all values of g for the planets didn't work - how to assign indices of one array to another? \r\n",
                "#gravPlanets = np.array([('Mercury',3.61), ('Venus',8.83), ('Earth',9.81), ('Mars',3.75), ('Jupiter',26.0), ('Saturn',11.2), ('Uranus',10.5), ('Neptune',13.3), ('Pluto',0.61)]) #I want to be able to use the names of the planets to call their values\r\n",
                "\r\n",
                "g_earth   = 9.80665                 # m/s\r\n",
                "fall_time = np.arange(0, 105, 5)    # sec\r\n",
                "\r\n",
                "def free_fall_h_grav(t,g):\r\n",
                "    \r\n",
                "    hGrav = 0.5*g*t**2\r\n",
                "\r\n",
                "    return hGrav\r\n",
                "\r\n",
                "print(free_fall_h_grav(fall_time, g_earth))"
            ],
            "outputs": [
                {
                    "output_type": "stream",
                    "name": "stdout",
                    "text": [
                        "[    0.         122.583125   490.3325    1103.248125  1961.33\n",
                        "  3064.578125  4412.9925    6006.573125  7845.32      9929.233125\n",
                        " 12258.3125   14832.558125 17651.97     20716.548125 24026.2925\n",
                        " 27581.203125 31381.28     35426.523125 39716.9325   44252.508125\n",
                        " 49033.25    ]\n"
                    ]
                }
            ],
            "metadata": {}
        },
        {
            "cell_type": "markdown",
            "source": [
                "Now try using different values of g for different planets (provided below) to test if your free fall height gets larger or smaller with g:\n",
                "\n",
                "|  Planet | g ($m/s^2$) |\n",
                "|:-------:|:--------:|\n",
                "| Mercury |   3.61   |\n",
                "|  Venus  |   8.83   |\n",
                "|   Mars  |   3.75   |\n",
                "| Jupiter |   26.0   |\n",
                "|  Saturn |   11.2   |\n",
                "|  Uranus |   10.5   |\n",
                "| Neptune |   13.3   |\n",
                "|  Pluto  |   0.61   |\n",
                "\n",
                "[source](https://www.physicsclassroom.com/class/circles/Lesson-3/The-Value-of-g)"
            ],
            "metadata": {}
        },
        {
            "cell_type": "code",
            "execution_count": 354,
            "source": [
                "g_pluto = 0.61 # m/s\r\n",
                "height_pluto = free_fall_h_grav(fall_time, g_pluto)\r\n",
                "#g_earth is already established\r\n",
                "height_earth = free_fall_h_grav(fall_time, g_earth)\r\n",
                "\r\n",
                "print(f'After {height.max():1.0f} sec, we will fall {height_delta:1.2f} m') #this does not produce accurate results. height.max is distance, not time\r\n",
                "print(f'After {fall_time.max():1.0f} sec, we will fall {height_pluto.max():1.2f} m on Pluto') #more clear, since the falling time is what changes\r\n",
                "print(f'After {fall_time.max():1.0f} sec, we will fall {height_earth.max():1.2f} m on Earth') #comparison to Earth data"
            ],
            "outputs": [
                {
                    "output_type": "stream",
                    "name": "stdout",
                    "text": [
                        "After 3050 sec, we will fall 44252.51 m\n",
                        "After 100 sec, we will fall 3050.00 m on Pluto\n",
                        "After 100 sec, we will fall 49033.25 m on Earth\n"
                    ]
                }
            ],
            "metadata": {}
        },
        {
            "cell_type": "markdown",
            "source": [
                "## Saving our work with `git commit`\n",
                "\n",
                "1. Open `Source Control` side panel\n",
                "2. Click the `+` sign beside the file name to stage the changes\n",
                "3. Type in commit message, and then click `check box` above to `commit`\n",
                "\n",
                "Great! Now you have a *commit* (Git checkpoint) on your local computer."
            ],
            "metadata": {}
        },
        {
            "cell_type": "markdown",
            "source": [
                "## Free Fall -- plotting with `matplotlib.pyplot`\n",
                "\n",
                "We're now going to plot free fall times from the functions we've created above using matplotlib, which we import like so:"
            ],
            "metadata": {}
        },
        {
            "cell_type": "code",
            "execution_count": 355,
            "source": [
                "import matplotlib.pyplot as plt"
            ],
            "outputs": [],
            "metadata": {}
        },
        {
            "cell_type": "code",
            "execution_count": 356,
            "source": [
                "x = np.arange(0, 100, 5)\r\n",
                "y = free_fall_h(x)"
            ],
            "outputs": [],
            "metadata": {}
        },
        {
            "cell_type": "code",
            "execution_count": 357,
            "source": [
                "plt.figure(facecolor='white', dpi=100)\r\n",
                "\r\n",
                "plt.plot(x, y, '.-', ms=3, c='tab:blue')\r\n",
                "plt.text(10, 30000, 'H(t)=$\\\\frac{1}{2}gt^2$', size=20)\r\n",
                "\r\n",
                "plt.title('Free fall curve on Earth')\r\n",
                "plt.ylabel('Distance [km]') \r\n",
                "plt.xlabel('Time [sec]') \r\n",
                "plt.show()"
            ],
            "outputs": [
                {
                    "output_type": "display_data",
                    "data": {
                        "image/png": "[encoded data removed]",
                        "text/plain": [
                            "<Figure size 600x400 with 1 Axes>"
                        ]
                    },
                    "metadata": {}
                }
            ],
            "metadata": {}
        },
        {
            "cell_type": "markdown",
            "source": [
                "### [Assignment] Plot Planck function\n",
                "\n",
                "Using what we learned today and the equation shown in the plot below, define the the Planck function and use it to plot the blackbody curves. Plot 4 blackbody curves with T = 6000, 5000, 4000, and 3000 K, and make sure you have the same axes scale and range as it shows in the figure below.\n",
                "\n",
                "> Be careful of the units on both axes.\n",
                "\n",
                "Note that $\\lambda$ is short for wavelength, $T$ is short for temperature and that you may need to google the following constants for your function (pay attention to units!):\n",
                "\n",
                "| Symbol | Meaning |\n",
                "| ------ | ------- |\n",
                "| $\\pi$ | Pi |\n",
                "| $c$ | Speed of light |\n",
                "| $h$ | Planck's constant |\n",
                "| $k$ | Boltzmann constant |\n",
                "\n",
                "(Optional): For an extra challenge, try to replicate the color and formatting of the plot shown below. You can find lots of `matplotlib` customization and plotting examples [here](https://matplotlib.org/stable/gallery/index.html).\n",
                "\n",
                "![Planck Function](https://github.com/cjtu/spirl/blob/master/spirl/images/f21/a1_planck.png?raw=true)"
            ],
            "metadata": {}
        },
        {
            "cell_type": "code",
            "execution_count": 394,
            "source": [
                "c = 2.998e+8 # speed of light in m/s\r\n",
                "h = 6.626e-34 #planck constant in m^2 kg s^-1\r\n",
                "k = 1.381e-23 #Bolzmann constant in m^2 kg s^-2 K^-1\r\n",
                "#pi is pi - variable does not need to be created\r\n",
                "#lamb = lambda, not using lambda to avoid confusion with Python lambda function\r\n",
                "\r\n",
                "def planck(lamb, T):\r\n",
                "    \"\"\"Return blackbody power density using the Planck function.\r\n",
                "\r\n",
                "    Parameters\r\n",
                "    ----------\r\n",
                "    wavelength (array): Wavelength in [nm]\r\n",
                "\r\n",
                "    Return\r\n",
                "    ------\r\n",
                "    radiance (array): Power density in [W/m^3]\r\n",
                "    \"\"\"\r\n",
                "    numerator = 2*pi*h*c**2\r\n",
                "    expon = h*c / (lamb*k*T)\r\n",
                "    denom = (lamb**5)*(np.exp(expon) - 1)\r\n",
                "\r\n",
                "    s = numerator/denom\r\n",
                "    \r\n",
                "    return s\r\n",
                "\r\n",
                "#hopefully this works"
            ],
            "outputs": [],
            "metadata": {}
        },
        {
            "cell_type": "code",
            "execution_count": 422,
            "source": [
                "# Define your wavelength array and call planck function here\r\n",
                " \r\n",
                "wavelength = np.arange(1e-9, 3e-6, 1e-9) #wavelength in nm, found better way to do this on stackexchange to avoid 0 in denominator\r\n",
                "#manually change temp 3000K - 6000K\r\n",
                "\r\n",
                "curve3000 = planck(wavelength, 3000)\r\n",
                "curve4000 = planck(wavelength, 4000)\r\n",
                "curve5000 = planck(wavelength, 5000)\r\n",
                "curve6000 = planck(wavelength, 6000)\r\n",
                "\r\n",
                "# Make your plot here\r\n",
                "plt.figure(facecolor='beige', dpi=100)\r\n",
                "\r\n",
                "plt.plot(wavelength*1e9, curve3000, ':', ms=1)\r\n",
                "plt.plot(wavelength*1e9, curve4000, '--', ms=1)\r\n",
                "plt.plot(wavelength*1e9, curve5000, '--', ms=1)\r\n",
                "plt.plot(wavelength*1e9, curve6000, '.-', ms=1)\r\n",
                "\r\n",
                "plt.title('Radiated Power Density')\r\n",
                "plt.ylabel('Power Density (10^14 Watts/m^3)') \r\n",
                "plt.xlabel('Wavelength (nm)') \r\n",
                "plt.show()\r\n",
                "\r\n",
                "#how to change y-axis values from 0-1 to 0-10??"
            ],
            "outputs": [
                {
                    "output_type": "stream",
                    "name": "stderr",
                    "text": [
                        "C:\\Users\\fryra\\anaconda3\\lib\\site-packages\\ipykernel_launcher.py:20: RuntimeWarning: overflow encountered in exp\n"
                    ]
                },
                {
                    "output_type": "display_data",
                    "data": {
                        "image/png": "[encoded data removed]",
                        "text/plain": [
                            "<Figure size 600x400 with 1 Axes>"
                        ]
                    },
                    "metadata": {}
                }
            ],
            "metadata": {}
        },
        {
            "cell_type": "markdown",
            "source": [
                "### List/Array/String Indexing\n",
                "\n",
                "We can index a NumPy array similarly to a Python `str` or `list` either from the front (starting at 0) or from the end (starting at -1).\n",
                "\n",
                "See more on SPIRL [3.3.7. Str indexing](https://cjtu.github.io/spirl/python_basic-types.html#str-indexing)\n",
                "\n",
                "![indexing](./images/indexing.png)\n",
                "\n",
                "For an array, our values are numbers instead of characters so if our array is\n",
                "\n",
                "`array = np.array([11, 22, 33, 44, 55])`\n",
                "\n",
                "We could access each element like:\n",
                "\n",
                "|                   |     |     |     |     |    |\n",
                "|-------------------|-----|-----|-----|-----|----|\n",
                "| Forward indexing  | 0   | 1   | 2   | 3   | 4  |\n",
                "| Array             | 11  | 22  | 33  | 44  | 55 |\n",
                "| Backward indexing | -5  | -4  | -3  | -2  | -1 |\n"
            ],
            "metadata": {}
        },
        {
            "cell_type": "markdown",
            "source": [
                "(Optional) For more practice or to learn some handy Astropy tips, check out the [Assignment 1 (BONUS)](https://cjtu.github.io/spirl/f21_a1_bonus.html) on the next page.\n",
                "\n",
                "When you are done with your assignment, make sure to:\n",
                "\n",
                "- Stage your changes with `+`\n",
                "- Commit your changes with a descriptive message with `checkmark`\n",
                "- Push your changes to your fork with `... menu -> push`\n",
                "- **[Do it once only]** Open a Pull Request on the source control tab (make sure to choose the remote branch with **your username** from the dropdown!)\n",
                "\n",
                "Review the submission guide [here](https://cjtu.github.io/spirl/f21_assignments.html#submitting-assignments-as-pull-requests) or reach out on the #help channel on Slack if you have any questions!"
            ],
            "metadata": {}
        },
        {
            "cell_type": "markdown",
            "source": [],
            "metadata": {}
        }
    ],
    "metadata": {
        "orig_nbformat": 4,
        "language_info": {
            "name": "python",
            "version": "3.7.6",
            "mimetype": "text/x-python",
            "codemirror_mode": {
                "name": "ipython",
                "version": 3
            },
            "pygments_lexer": "ipython3",
            "nbconvert_exporter": "python",
            "file_extension": ".py"
        },
        "kernelspec": {
            "name": "python3",
            "display_name": "Python 3.7.6 64-bit ('base': conda)"
        },
        "interpreter": {
            "hash": "efa23197c4b39568c54f2dac589b1a76b446fe37a070aff92cc9e209af685db3"
        }
    },
    "nbformat": 4,
    "nbformat_minor": 2
}