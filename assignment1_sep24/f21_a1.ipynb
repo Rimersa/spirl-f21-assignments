{
    "cells": [
        {
            "cell_type": "markdown",
            "source": [
                "# Assignment 1 (Sep 21)\r\n",
                "\r\n",
                "Welcome to assignment 1! In class we will cover the following topics:\r\n",
                "\r\n",
                "```{note}\r\n",
                "Lecture recording links will be uploaded after each class to the syllabus [here](https://cjtu.github.io/spirl/f21_about.html).\r\n",
                "```\r\n",
                "\r\n",
                "1. Quick Jupyter interface tour\r\n",
                "2. Difference between a `list` and a `numpy.array` in python\r\n",
                "3. How to make a function\r\n",
                "4. Simple plotting with `matplotlib.pyplot`\r\n",
                "\r\n",
                "## Readings (optional)\r\n",
                "\r\n",
                "If you find this week's material new or challenging, you may want to read through some or all the following SPIRL chapters before turning in your assignment:\r\n",
                "\r\n",
                "- [Ch. 2.2 Git Basics](https://cjtu.github.io/spirl/git_basics.html)\r\n",
                "- [Ch. 3.3 Python Basic Data Types](https://cjtu.github.io/spirl/python_basic-types.html)\r\n",
                "- [Ch. 3.5 Functions](https://cjtu.github.io/spirl/python_functions.html)\r\n",
                "- [Ch. 4.1 Jupyter Notebooks](https://cjtu.github.io/spirl/sp_jupyter.html)\r\n",
                "- [Ch. 4.2 Numpy](https://cjtu.github.io/spirl/sp_numpy.html)\r\n",
                "\r\n",
                "## VS Code Setup\r\n",
                "\r\n",
                "**Extensions:** This week we will use the following *Extensions*. In Visual Studio Code, head to the Extensions icon in the left sidebar (icon with 4 squares) and search for / install:\r\n",
                "\r\n",
                "- `Python`\r\n",
                "- `GitHub Pull Requests and Issues`\r\n",
                "- `GitLens -- Git supercharged`\r\n",
                "\r\n",
                "They should appear under the heading **Installed** when they are ready.\r\n",
                "\r\n",
                "**Log in with GitHub:** Also click the Accounts icon in the left sidebar and are logged into your GitHub account. It should show:  `username (GitHub)` when you are signed in.\r\n",
                "\r\n",
                "You may need to reload the window after installing / signing in.\r\n",
                "\r\n",
                "```{note}\r\n",
                "You may reload VS Code at any time by pressing <kbd>⌃ Control</kbd> <kbd>⇧ Shift</kbd> <kbd>P</kbd> (Mac: <kbd>⌘ Command</kbd> <kbd>⇧ Shift</kbd> <kbd>P</kbd>), typing `Reload Window` and then pressing Enter. \r\n",
                "```\r\n"
            ],
            "metadata": {}
        },
        {
            "cell_type": "markdown",
            "source": [
                "## Free Fall\r\n",
                "\r\n",
                "$$\r\n",
                "H = \\frac{1}{2} g t^2\r\n",
                "$$\r\n",
                "\r\n",
                "We can compute math equations in Python just like we would using a calculator. We'll first define the variables `g` and `t` and then type the equation. We write the variables first because python executes code line by line. If we put the equation first, python would get mad because it wouldn't know what `g` and `t` were in the equation. So here's how we do this...\r\n",
                "\r\n",
                "For more info please see [3.3. Basic Data Types](https://cjtu.github.io/spirl/python_basic-types.html#).\r\n"
            ],
            "metadata": {}
        },
        {
            "cell_type": "code",
            "execution_count": 4,
            "source": [
                "g_earth   = 9.80665     # m/s\r\n",
                "fall_time = 10          # sec\r\n",
                "\r\n",
                "H = (1/2) * g_earth * fall_time**2\r\n",
                "\r\n",
                "# print(H)\r\n",
                "print('We will fall about {:1.2f} m on Earth after {:} sec'.format(H, fall_time))"
            ],
            "outputs": [
                {
                    "output_type": "stream",
                    "name": "stdout",
                    "text": [
                        "We will fall about 490.33 m on Earth after 10 sec\n"
                    ]
                }
            ],
            "metadata": {}
        },
        {
            "cell_type": "markdown",
            "source": [
                "## Python `list` vs. Numpy `array`\r\n",
                "\r\n",
                "What if we want to compute the falling height at several times?\r\n"
            ],
            "metadata": {}
        },
        {
            "cell_type": "code",
            "execution_count": 5,
            "source": [
                "fall_time = [1, 2, 3, 4, 5, 6]  # [seconds]\r\n",
                "\r\n",
                "\r\n",
                "H = (1/2) * g_earth * fall_time**2\r\n",
                "print(H)"
            ],
            "outputs": [
                {
                    "output_type": "error",
                    "ename": "TypeError",
                    "evalue": "unsupported operand type(s) for ** or pow(): 'list' and 'int'",
                    "traceback": [
                        "\u001b[1;31m---------------------------------------------------------------------------\u001b[0m",
                        "\u001b[1;31mTypeError\u001b[0m                                 Traceback (most recent call last)",
                        "\u001b[1;32m<ipython-input-5-450f7a9eff2f>\u001b[0m in \u001b[0;36m<module>\u001b[1;34m\u001b[0m\n\u001b[0;32m      2\u001b[0m \u001b[1;33m\u001b[0m\u001b[0m\n\u001b[0;32m      3\u001b[0m \u001b[1;33m\u001b[0m\u001b[0m\n\u001b[1;32m----> 4\u001b[1;33m \u001b[0mH\u001b[0m \u001b[1;33m=\u001b[0m \u001b[1;33m(\u001b[0m\u001b[1;36m1\u001b[0m\u001b[1;33m/\u001b[0m\u001b[1;36m2\u001b[0m\u001b[1;33m)\u001b[0m \u001b[1;33m*\u001b[0m \u001b[0mg_earth\u001b[0m \u001b[1;33m*\u001b[0m \u001b[0mfall_time\u001b[0m\u001b[1;33m**\u001b[0m\u001b[1;36m2\u001b[0m\u001b[1;33m\u001b[0m\u001b[1;33m\u001b[0m\u001b[0m\n\u001b[0m\u001b[0;32m      5\u001b[0m \u001b[0mprint\u001b[0m\u001b[1;33m(\u001b[0m\u001b[0mH\u001b[0m\u001b[1;33m)\u001b[0m\u001b[1;33m\u001b[0m\u001b[1;33m\u001b[0m\u001b[0m\n",
                        "\u001b[1;31mTypeError\u001b[0m: unsupported operand type(s) for ** or pow(): 'list' and 'int'"
                    ]
                }
            ],
            "metadata": {}
        },
        {
            "cell_type": "markdown",
            "source": [
                "Here we get an error because the python `list` does not allow us to do math on it directly. We will use a *NumPy* array instead!\r\n",
                "\r\n",
                "### What is NumPy?\r\n",
                "\r\n",
                "NumPy is a fundamental package for scientific computing in Python. It provides a mathematical array/matrix object that we can perform computations on! It also allows us to quickly select data or perform operations on arrays, including:\r\n",
                "\r\n",
                "- math (add/subtract, multiply/divide, dot/cross products, etc.)\r\n",
                "- logical (union, intersection, complement, etc.)\r\n",
                "- shape manipulation\r\n",
                "- sorting\r\n",
                "- reading/writing to files (I/O)\r\n",
                "- Fourier transforms\r\n",
                "- basic stats and curve fitting\r\n",
                "- random simulations\r\n",
                "- and much more...\r\n",
                "\r\n",
                "### Vectorization makes NumPy Fast!\r\n",
                "\r\n",
                "When working with NumPy arrays, most operations are optimized in **pre-compiled C code**. That means that without ever needing to learn the **C** programming language, you can use code that runs as fast and efficiently as C right from Python. Writing code that uses arrays rather than looping through each element is called **Vectorization** and can make your programs many times faster!\r\n",
                "\r\n",
                "Stay tuned for later weeks when we will practice converting loops into arrays.\r\n",
                "\r\n",
                "* Read more on NumPy official site: [https://numpy.org/doc/stable/](https://numpy.org/doc/stable/)\r\n",
                "* Read about the basics of NumPy on SPIRL: [Ch. 4.2 Numpy](https://cjtu.github.io/spirl/sp_numpy.html)\r\n",
                "\r\n",
                "### Using NumPy\r\n",
                "\r\n",
                "To use NumPy, we need to import the `numpy` library which is usually done like so:"
            ],
            "metadata": {}
        },
        {
            "cell_type": "code",
            "execution_count": 6,
            "source": [
                "import numpy as np"
            ],
            "outputs": [],
            "metadata": {}
        },
        {
            "cell_type": "markdown",
            "source": [
                "We can convert a python list containing numbers (`int` and/or `float`) to a numpy array like so:"
            ],
            "metadata": {}
        },
        {
            "cell_type": "code",
            "execution_count": 7,
            "source": [
                "python_list = [1, 2, 3, 4, 5, 6]\r\n",
                "\r\n",
                "# Converting a python list into a NumPy array\r\n",
                "numpy_array = np.array(python_list)"
            ],
            "outputs": [],
            "metadata": {}
        },
        {
            "cell_type": "markdown",
            "source": [
                "We can check the type of an object in Python with the `type()` function:"
            ],
            "metadata": {}
        },
        {
            "cell_type": "code",
            "execution_count": 8,
            "source": [
                "print('Python type:', type(python_list))\r\n",
                "print('NumPy type:', type(numpy_array))"
            ],
            "outputs": [
                {
                    "output_type": "stream",
                    "name": "stdout",
                    "text": [
                        "Python type: <class 'list'>\n",
                        "NumPy type: <class 'numpy.ndarray'>\n"
                    ]
                }
            ],
            "metadata": {}
        },
        {
            "cell_type": "markdown",
            "source": [
                "### List/Array/String Indexing\r\n",
                "\r\n",
                "We can index a NumPy array similarly to a Python `str` or `list` either from the front (starting at 0) or from the end (starting at -1).\r\n",
                "\r\n",
                "See more on SPIRL [3.3.7. Str indexing](https://cjtu.github.io/spirl/python_basic-types.html#str-indexing)\r\n",
                "\r\n",
                "![indexing](./images/indexing.png)\r\n",
                "\r\n",
                "For an array, our values are numbers instead of characters so if our array is\r\n",
                "\r\n",
                "`array = np.array([11, 22, 33, 44, 55])`\r\n",
                "\r\n",
                "We could access each element like:\r\n",
                "\r\n",
                "|                   |     |     |     |     |    |\r\n",
                "|-------------------|-----|-----|-----|-----|----|\r\n",
                "| Forward indexing  | 0   | 1   | 2   | 3   | 4  |\r\n",
                "| Array             | 11  | 22  | 33  | 44  | 55 |\r\n",
                "| Backward indexing | -5  | -4  | -3  | -2  | -1 |\r\n"
            ],
            "metadata": {}
        },
        {
            "cell_type": "code",
            "execution_count": 9,
            "source": [
                "test_list  = [11, 22, 33, 44, 55]\r\n",
                "test_array = np.array(test_list)\r\n",
                "\r\n",
                "print(test_list)\r\n",
                "print(test_array)"
            ],
            "outputs": [
                {
                    "output_type": "stream",
                    "name": "stdout",
                    "text": [
                        "[11, 22, 33, 44, 55]\n",
                        "[11 22 33 44 55]\n"
                    ]
                }
            ],
            "metadata": {}
        },
        {
            "cell_type": "code",
            "execution_count": 10,
            "source": [
                "print(test_list[0])\r\n",
                "print(test_array[0])"
            ],
            "outputs": [
                {
                    "output_type": "stream",
                    "name": "stdout",
                    "text": [
                        "11\n",
                        "11\n"
                    ]
                }
            ],
            "metadata": {}
        },
        {
            "cell_type": "code",
            "execution_count": 11,
            "source": [
                "## What if you only want [22,33,44] ??\r\n",
                "\r\n",
                "print(test_array[1:5])\r\n",
                "test_array[1:5]"
            ],
            "outputs": [
                {
                    "output_type": "stream",
                    "name": "stdout",
                    "text": [
                        "[22 33 44 55]\n"
                    ]
                },
                {
                    "output_type": "execute_result",
                    "data": {
                        "text/plain": [
                            "array([22, 33, 44, 55])"
                        ]
                    },
                    "metadata": {},
                    "execution_count": 11
                }
            ],
            "metadata": {}
        },
        {
            "cell_type": "markdown",
            "source": [
                "### Array generation with NumPy\r\n",
                "\r\n",
                "There are many built-in NumPy functions that make it easy to make new arrays. For example:\r\n",
                "\r\n",
                "- `np.zeros()`: Make an array of all 0s\r\n",
                "- `np.ones()`: Make an array of all 1s\r\n",
                "- `np.arange()`: Make an array that ranges between two values increasing by a certain step size\r\n",
                "- `np.linspace()`: Make an array that ranges between two values and is a fixed length\r\n",
                "- `np.logspace()`: Make an array that ranges between two powers of 10, is a fixed length, and takes logarithmic step sizes\r\n",
                "- and more...\r\n",
                "\r\n",
                "Try it yourself, call `help(np.funcname)`, or google for more info!\r\n",
                "\r\n",
                "**(Demo do a search on np.arange)**"
            ],
            "metadata": {}
        },
        {
            "cell_type": "code",
            "execution_count": 12,
            "source": [
                "g_earth   = 9.80665                 # m/s\r\n",
                "fall_time = np.arange(0, 100, 5)    # sec\r\n",
                "\r\n",
                "H = (1/2) * g_earth * fall_time**2\r\n",
                "\r\n",
                "print(H)"
            ],
            "outputs": [
                {
                    "output_type": "stream",
                    "name": "stdout",
                    "text": [
                        "[    0.         122.583125   490.3325    1103.248125  1961.33\n",
                        "  3064.578125  4412.9925    6006.573125  7845.32      9929.233125\n",
                        " 12258.3125   14832.558125 17651.97     20716.548125 24026.2925\n",
                        " 27581.203125 31381.28     35426.523125 39716.9325   44252.508125]\n"
                    ]
                }
            ],
            "metadata": {}
        },
        {
            "cell_type": "code",
            "execution_count": 13,
            "source": [
                "H_delta = H[-1] - H[0]\r\n",
                "\r\n",
                "print(f'After {fall_time.max():1.0f} sec, we will fall {H_delta:1.2f} m on Earth' )"
            ],
            "outputs": [
                {
                    "output_type": "stream",
                    "name": "stdout",
                    "text": [
                        "After 95 sec, we will fall 44252.51 m on Earth\n"
                    ]
                }
            ],
            "metadata": {}
        },
        {
            "cell_type": "markdown",
            "source": [
                "## How to make a function\r\n",
                "\r\n",
                "$$\r\n",
                "{\\rm free\\_fall\\_h}(t) = \\frac{1}{2} g t^2\r\n",
                "$$\r\n",
                "\r\n",
                "Another way of computing this equation is by defining a *Function*. All functions are set up like `f(x)`, where `f` is the function name and `x` is the parameter that goes into the function.\r\n",
                "\r\n",
                "To define a function, we use the `def` command in Python. This line defines the function name and parameter(s). Any code in the *body* of the function must be indented and will only be run when the function is called. We will do our calculation in the function body and output the final result using the `return` command.\r\n",
                "\r\n",
                "See [Ch. 3.5 Functions](https://cjtu.github.io/spirl/python_functions.html) for more info.\r\n",
                "\r\n",
                "Let's define a function below:"
            ],
            "metadata": {}
        },
        {
            "cell_type": "code",
            "execution_count": 14,
            "source": [
                "# !! Indentation is very important in python !!\r\n",
                "\r\n",
                "def free_fall_h(t):\r\n",
                "    \r\n",
                "    g = 9.80665 # m/s\r\n",
                "    H = 0.5 * g * t**2\r\n",
                "    \r\n",
                "    return H"
            ],
            "outputs": [],
            "metadata": {}
        },
        {
            "cell_type": "markdown",
            "source": [
                "A final critical part of Python functions are the *docstrings*. A docstring tells future users of your code (including future you!) what your function does, what parameter(s) it takes and what it returns. Docstrings are denoted with triple quotes `\"\"\"`."
            ],
            "metadata": {}
        },
        {
            "cell_type": "code",
            "execution_count": 15,
            "source": [
                "def free_fall_h(t):\r\n",
                "    \"\"\"Return free fall distance given time t on Earth.\r\n",
                "\r\n",
                "    Args:\r\n",
                "        t (float or np.array): Time in [s]\r\n",
                "\r\n",
                "    Returns:\r\n",
                "        [float or np.array]: Free fall distance in [m]\r\n",
                "    \"\"\"\r\n",
                "    \r\n",
                "    g = 9.80665 # m/s\r\n",
                "    H = 0.5 * g * t**2\r\n",
                "    \r\n",
                "    return H"
            ],
            "outputs": [],
            "metadata": {}
        },
        {
            "cell_type": "code",
            "execution_count": 16,
            "source": [
                "fall_time = np.arange(0, 100, 5)\r\n",
                "\r\n",
                "height = free_fall_h(fall_time)\r\n",
                "height_delta = height[-1] - height[0]\r\n",
                "\r\n",
                "print(f'After {fall_time.max():1.0f} sec, we will fall {height_delta:1.2f} m on Earth' )"
            ],
            "outputs": [
                {
                    "output_type": "stream",
                    "name": "stdout",
                    "text": [
                        "After 95 sec, we will fall 44252.51 m on Earth\n"
                    ]
                }
            ],
            "metadata": {}
        },
        {
            "cell_type": "markdown",
            "source": [
                "## [hands-on] A Function with 2 Parameters\n",
                "\n",
                "Now that we've made a function with one parameter (`t` or time), let's try modifying `free_fall_h` to make it more general so we can calculate the fallen height on different planets with different `g` values. Hint: you'll now be creating an `f(x,y)` function with the following equation.\n",
                "\n",
                "$$\n",
                "{\\rm free\\_fall\\_h\\_grav}(t, g) = \\frac{1}{2} g t^2\n",
                "$$"
            ],
            "metadata": {}
        },
        {
            "cell_type": "code",
            "execution_count": 17,
            "source": [
                "def free_fall_h_grav(t,g):\r\n",
                "    \r\n",
                "    H = 0.5 * g * t**2\r\n",
                "\r\n",
                "    return H"
            ],
            "outputs": [],
            "metadata": {}
        },
        {
            "cell_type": "markdown",
            "source": [
                "Now try using different values of g for different planets (provided below) to test if your free fall height gets larger or smaller with g:\n",
                "\n",
                "|  Planet | g ($m/s^2$) |\n",
                "|:-------:|:--------:|\n",
                "| Mercury |   3.61   |\n",
                "|  Venus  |   8.83   |\n",
                "|   Mars  |   3.75   |\n",
                "| Jupiter |   26.0   |\n",
                "|  Saturn |   11.2   |\n",
                "|  Uranus |   10.5   |\n",
                "| Neptune |   13.3   |\n",
                "|  Pluto  |   0.61   |\n",
                "\n",
                "[source](https://www.physicsclassroom.com/class/circles/Lesson-3/The-Value-of-g)"
            ],
            "metadata": {}
        },
        {
            "cell_type": "code",
            "execution_count": 18,
            "source": [
                "g = 9.80665 # m/s  <--- change me\r\n",
                "height = free_fall_h_grav(fall_time, g)\r\n",
                "\r\n",
                "print(f'After {height.max():1.0f} sec, we will fall {height_delta:1.2f} m')"
            ],
            "outputs": [
                {
                    "output_type": "stream",
                    "name": "stdout",
                    "text": [
                        "After 44253 sec, we will fall 44252.51 m\n"
                    ]
                }
            ],
            "metadata": {}
        },
        {
            "cell_type": "markdown",
            "source": [
                "## Saving our work with `git commit`\n",
                "\n",
                "1. Open `Source Control` side panel\n",
                "2. Click the `+` sign beside the file name to stage the changes\n",
                "3. Type in commit message, and then click `check box` above to `commit`\n",
                "\n",
                "Great! Now you have a *commit* (Git checkpoint) on your local computer."
            ],
            "metadata": {}
        },
        {
            "cell_type": "markdown",
            "source": [
                "## Free Fall -- plotting with `matplotlib.pyplot`\n",
                "\n",
                "We're now going to plot free fall times from the functions we've created above using matplotlib, which we import like so:"
            ],
            "metadata": {}
        },
        {
            "cell_type": "code",
            "execution_count": 19,
            "source": [
                "import matplotlib.pyplot as plt"
            ],
            "outputs": [],
            "metadata": {}
        },
        {
            "cell_type": "code",
            "execution_count": 20,
            "source": [
                "x = np.arange(0, 100, 5)\r\n",
                "y = free_fall_h(x)"
            ],
            "outputs": [],
            "metadata": {}
        },
        {
            "cell_type": "code",
            "execution_count": 21,
            "source": [
                "plt.figure(facecolor='white', dpi=100)\r\n",
                "\r\n",
                "plt.plot(x, y, '.', ms=3, c='tab:blue')\r\n",
                "plt.text(10, 30000, 'H(t)=$\\\\frac{1}{2}gt^2$', size=20)\r\n",
                "\r\n",
                "plt.title('Free fall curve on Earth')\r\n",
                "plt.ylabel('Distance [km]') \r\n",
                "plt.xlabel('Time [sec]') "
            ],
            "outputs": [
                {
                    "output_type": "execute_result",
                    "data": {
                        "text/plain": [
                            "Text(0.5, 0, 'Time [sec]')"
                        ]
                    },
                    "metadata": {},
                    "execution_count": 21
                },
                {
                    "output_type": "display_data",
                    "data": {
                        "image/png": "[encoded data removed]",
                        "text/plain": [
                            "<Figure size 600x400 with 1 Axes>"
                        ]
                    },
                    "metadata": {}
                }
            ],
            "metadata": {}
        },
        {
            "cell_type": "markdown",
            "source": [
                "### [Assignment] Plot Planck function\n",
                "\n",
                "Using what we learned today and the equation shown in the plot below, define the the Planck function and use it to plot the blackbody curves. Plot 4 blackbody curves with T = 6000, 5000, 4000, and 3000 K, and make sure you have the same axes scale and range as it shows in the figure below.\n",
                "\n",
                "> Be careful of the units on both axes.\n",
                "\n",
                "Note that $\\lambda$ is short for wavelength, $T$ is short for temperature and that you may need to google the following constants for your function (pay attention to units!):\n",
                "\n",
                "| Symbol | Meaning |\n",
                "| ------ | ------- |\n",
                "| $\\pi$ | Pi |\n",
                "| $c$ | Speed of light |\n",
                "| $h$ | Planck's constant |\n",
                "| $k$ | Boltzmann constant |\n",
                "\n",
                "(Optional): For an extra challenge, try to replicate the color and formatting of the plot shown below. You can find lots of `matplotlib` customization and plotting examples [here](https://matplotlib.org/stable/gallery/index.html).\n",
                "\n",
                "![Planck Function](https://github.com/cjtu/spirl/blob/master/spirl/images/f21/a1_planck.png?raw=true)"
            ],
            "metadata": {}
        },
        {
            "cell_type": "code",
            "execution_count": 22,
            "source": [
                "def planck(wavelength, T):\r\n",
                "    \"\"\"Return blackbody power density using the Planck function.\r\n",
                "\r\n",
                "    Parameters\r\n",
                "    ----------\r\n",
                "    wavelength (array): Wavelength in [nm]\r\n",
                "    temperature (array): Temperature in [K]\r\n",
                "    pi (value): 3.14159265359 \r\n",
                "    c (value) : Speed of light, 3.0e8 in [m/s]\r\n",
                "    h (value): Planck's Constant, 6.62607e-34 in [(m**2*kg)/s]\r\n",
                "    k (value): Boltzmann Constant, 1.38064852e-23 in [(m**2*kg)/(s**2*K)]\r\n",
                "\r\n",
                "    Return\r\n",
                "    ------\r\n",
                "    radiance (array): Power density in [W/m^3]\r\n",
                "\r\n",
                "    \"\"\"\r\n",
                "    # your code here\r\n",
                "    pi = np.pi\r\n",
                "    c =  3.0e8 # m/s\r\n",
                "    h = 6.62607e-34 # (m**2*kg)/s\r\n",
                "    k = 1.38064852e-23 # (m**2*kg)/(s**2*K)\r\n",
                "    #W = np.arrange([100, 3000, 1])\r\n",
                "    #T = np.array([3000, 4000, 5000, 6000]) #Temperature in Kelvin\r\n",
                "\r\n",
                "    S1 = (2*pi*(c**2)*h)/(W**5)\r\n",
                "    S2 = 1/((np.exp((h*c)/(W*k*T)))- 1)\r\n",
                "    S = S1*S2\r\n",
                "    return S"
            ],
            "outputs": [],
            "metadata": {}
        },
        {
            "cell_type": "code",
            "execution_count": 25,
            "source": [
                "# Define your wavelength array and call planck function here\r\n",
                "W = np.arange(1e-9, 3e-6, 1e-9)\r\n",
                "\r\n",
                "temp_3000 = planck(W, 3000)\r\n",
                "temp_4000 = planck(W, 4000)\r\n",
                "temp_5000 = planck(W, 5000)\r\n",
                "temp_6000 = planck(W, 6000)\r\n",
                "\r\n",
                "\r\n",
                "#baseplot and color\r\n",
                "fig, ax = plt.subplots(figsize=(10,5) ,facecolor='#F9E4C8', dpi=100)\r\n",
                "ax.set_facecolor('#F9E4C8')\r\n",
                "right_side = ax.spines['right']\r\n",
                "right_side.set_visible(False)\r\n",
                "\r\n",
                "#removing spines\r\n",
                "top_side = ax.spines['top']\r\n",
                "top_side.set_visible(False)\r\n",
                "\r\n",
                "#plotting functions\r\n",
                "ax.plot(W/1e-9, temp_6000/1e13, color='black')\r\n",
                "ax.plot(W/1e-9, temp_5000/1e13,color='black', linestyle='--')\r\n",
                "ax.plot(W/1e-9, temp_4000/1e13,color='black', linestyle='--')\r\n",
                "ax.plot(W/1e-9, temp_3000/1e13,color='black', linestyle='--')\r\n",
                "\r\n",
                "#title and equation\r\n",
                "ax.set_title('Radiated Power Density \\n Planck Law', fontsize='xx-large')\r\n",
                "fig.text(0.5, 0.3, r'$ S(\\lambda) = \\dfrac{2 \\pi c^2 h}{\\lambda^5} * \\dfrac{1}{ e^{\\dfrac{hc}{\\lambda k T}}-1}$', fontsize='xx-large', position=(0.4,0.79))\r\n",
                "\r\n",
                "#tick parameters\r\n",
                "ax.set_yticks(np.arange(1,11,1))\r\n",
                "ax.set_ylim(0,10)\r\n",
                "ax.set_xlim(100,2700)\r\n",
                "ax.set_ylabel('Power Density (10$^1$$^3$ watts/m$^3$)', fontsize='large')\r\n",
                "ax.set_xlabel('Wavelength (nm)', fontsize='large')\r\n",
                "ax.tick_params(axis='both', direction='inout', length=3, width=2)\r\n",
                "\r\n",
                "\r\n",
                "#Temperature Curve Labels\r\n",
                "fig.text(0.5, 0.3, '6000 K',fontsize='x-large', position=(0.31,0.7))\r\n",
                "fig.text(0.5, 0.3, '5000 K',fontsize='x-large', position=(0.38,0.47))\r\n",
                "fig.text(0.5, 0.3, '4000 K',fontsize='x-large', position=(0.47,0.30))\r\n",
                "fig.text(0.5, 0.3, '3000 K',fontsize='x-large', position=(0.57,0.23))\r\n",
                "\r\n",
                "#fillbetween\r\n",
                "t = temp_6000/1e13 \r\n",
                "x1 = 400\r\n",
                "x2 = 700\r\n",
                "ax.fill_betweenx(t, x1, x2,  where= x1 <= x2, cmap='rainbow')\r\n",
                "s\r\n",
                "#Cant figure arrows or visible spectrum out\r\n"
            ],
            "outputs": [
                {
                    "output_type": "stream",
                    "name": "stderr",
                    "text": [
                        "<ipython-input-22-f96a103ca91d>:27: RuntimeWarning: overflow encountered in exp\n",
                        "  S2 = 1/((np.exp((h*c)/(W*k*T)))- 1)\n",
                        "<ipython-input-25-4aa2eee16b94>:49: MatplotlibDeprecationWarning: The parameter where must have the same size as y in fill_between(). This will become an error in future versions of Matplotlib.\n",
                        "  ax.fill_betweenx(t, x1, x2,  where= x1 <= x2, cmap='rainbow')\n"
                    ]
                },
                {
                    "output_type": "execute_result",
                    "data": {
                        "text/plain": [
                            "<matplotlib.collections.PolyCollection at 0x1ec99eebcd0>"
                        ]
                    },
                    "metadata": {},
                    "execution_count": 25
                },
                {
                    "output_type": "display_data",
                    "data": {
                        "image/png": "[encoded data removed]",
                        "text/plain": [
                            "<Figure size 1000x500 with 1 Axes>"
                        ]
                    },
                    "metadata": {}
                }
            ],
            "metadata": {}
        },
        {
            "cell_type": "markdown",
            "source": [
                "(Optional) For more practice or to learn some handy Astropy tips, check out the [Assignment 1 (BONUS)](https://cjtu.github.io/spirl/f21_a1_bonus.html) on the next page.\n",
                "\n",
                "When you are done with your assignment, make sure to:\n",
                "\n",
                "- Stage your changes with `+`\n",
                "- Commit your changes with a descriptive message with `checkmark`\n",
                "- Push your changes to your fork with `... menu -> push`\n",
                "- **[Do it once only]** Open a Pull Request on the source control tab (make sure to choose the remote branch with **your username** from the dropdown!)\n",
                "\n",
                "Review the submission guide [here](https://cjtu.github.io/spirl/f21_assignments.html#submitting-assignments-as-pull-requests) or reach out on the #help channel on Slack if you have any questions!"
            ],
            "metadata": {}
        },
        {
            "cell_type": "markdown",
            "source": [],
            "metadata": {}
        }
    ],
    "metadata": {
        "orig_nbformat": 4,
        "language_info": {
            "name": "python",
            "version": "3.8.3",
            "mimetype": "text/x-python",
            "codemirror_mode": {
                "name": "ipython",
                "version": 3
            },
            "pygments_lexer": "ipython3",
            "nbconvert_exporter": "python",
            "file_extension": ".py"
        },
        "kernelspec": {
            "name": "python3",
            "display_name": "Python 3.8.3 64-bit ('base': conda)"
        },
        "interpreter": {
            "hash": "fc60a52d195b1e49ef047436fa0bebc3a5ac0b7296c284e2f36c4fc7c6915f95"
        }
    },
    "nbformat": 4,
    "nbformat_minor": 2
}