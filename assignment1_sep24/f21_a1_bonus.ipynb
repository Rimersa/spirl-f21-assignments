{
    "cells": [
        {
            "cell_type": "markdown",
            "source": [
                "# Assignment 1 (BONUS)\n",
                "\n",
                "This page has a bonus exercise for assignment 1. Please complete it if you found assignment 1 to be easy or mostly review or if you want to extra challenge!\n",
                "\n",
                "## Advanced: Using Astropy\n",
                "\n",
                "Astropy is an astronomy Python package (read more [here](https://www.astropy.org/)) which provides many useful tools. Two tools that are particularly useful for assignment 1 are `astropy.constant` and `astropy.units`.\n",
                "\n",
                "The `astropy.constant` module has many scientific constants available so we don't need to Google them and copy / paste them into our code each time. See all built-in constants [here](https://docs.astropy.org/en/stable/constants/index.html).\n",
                "\n",
                "The `astropy.units` module allows us to do unit transformations so we never have to have headaches converting seconds to kilo-years ever again!.\n"
            ],
            "metadata": {}
        },
        {
            "cell_type": "code",
            "execution_count": 2,
            "source": [
                "# Import both modules\n",
                "from astropy import constants as const\n",
                "from astropy import units as u\n",
                "import numpy as np\n"
            ],
            "outputs": [],
            "metadata": {}
        },
        {
            "cell_type": "markdown",
            "source": [
                "Here we use the constants `g0` for gravitational acceleration on Earth and the unit `u.s` to give our time `t` units of seconds."
            ],
            "metadata": {}
        },
        {
            "cell_type": "code",
            "execution_count": 3,
            "source": [
                "g = const.g0\n",
                "t = 10 * u.s\n",
                "\n",
                "H = (1/2) * g * t**2\n",
                "print(f'On Earth, after {t} sec, we will fall down {H:1.2f}')"
            ],
            "outputs": [
                {
                    "output_type": "stream",
                    "name": "stdout",
                    "text": [
                        "On Earth, after 10.0 s sec, we will fall down 490.33 m\n"
                    ]
                }
            ],
            "metadata": {}
        },
        {
            "cell_type": "markdown",
            "source": [
                "If instead we want to specify time in hours, no problem!"
            ],
            "metadata": {}
        },
        {
            "cell_type": "code",
            "execution_count": 4,
            "source": [
                "t = 10 * u.hour"
            ],
            "outputs": [],
            "metadata": {}
        },
        {
            "cell_type": "markdown",
            "source": [
                "Now we just make sure to convert to seconds using `.cgs` to turn any units into *Centimeter-Gram-Second (CGS)* units."
            ],
            "metadata": {}
        },
        {
            "cell_type": "code",
            "execution_count": 5,
            "source": [
                "t = t.cgs\n",
                "print(f'On Earth, after {t}, we will fall donw {H:1.2f}')"
            ],
            "outputs": [
                {
                    "output_type": "stream",
                    "name": "stdout",
                    "text": [
                        "On Earth, after 36000.0 s, we will fall donw 490.33 m\n"
                    ]
                }
            ],
            "metadata": {}
        },
        {
            "cell_type": "markdown",
            "source": [
                "If we make sure to call `.cgs` in our function, we can be sure that no matter what units were on the number we passed in, we will be multiplying `g` and `t` in CGS units."
            ],
            "metadata": {}
        },
        {
            "cell_type": "code",
            "execution_count": 6,
            "source": [
                "def free_fall(t):\n",
                "    g = const.g0.cgs\n",
                "    t = t.cgs\n",
                "    \n",
                "    H = 0.5 * g * t**2\n",
                "    return H"
            ],
            "outputs": [],
            "metadata": {}
        },
        {
            "cell_type": "markdown",
            "source": [
                "Finally, we can use the `.to()` method to do a unit conversion to another unit that astropy recognizes."
            ],
            "metadata": {}
        },
        {
            "cell_type": "code",
            "execution_count": 7,
            "source": [
                "t = 10 * u.hour\n",
                "free_fall(t).to(u.pc)"
            ],
            "outputs": [
                {
                    "output_type": "execute_result",
                    "data": {
                        "text/latex": [
                            "$2.059421 \\times 10^{-7} \\; \\mathrm{pc}$"
                        ],
                        "text/plain": [
                            "<Quantity 2.059421e-07 pc>"
                        ]
                    },
                    "metadata": {},
                    "execution_count": 7
                }
            ],
            "metadata": {}
        },
        {
            "cell_type": "markdown",
            "source": [
                "### [hands-on] Prove g is 9.8 on Earth\n",
                "\n",
                "Now that we've shown you an example of using Astropy, try to prove g is about 9.8 on Earth with Astropy using the following equation:\n",
                "\n",
                "$$\n",
                "F = ma = \\frac{GMm}{r^2}\n",
                "\\Longrightarrow a = \\frac{GM}{r^2}\n",
                "$$\n",
                "\n",
                "Don't forget to look up constants available in `astropy.constants` and convert to consistent units before doing any computations!"
            ],
            "metadata": {}
        },
        {
            "cell_type": "code",
            "execution_count": 11,
            "source": [
                "# try it here\n",
                "G = 6.67e-11 # unit: m^3*kg^-1*s^-2\n",
                "M = 5.97e24 # unit: kg\n",
                "r = 6.38e6 # unit: m\n",
                "\n",
                "g = G * M / r**2\n",
                "print(g)"
            ],
            "outputs": [
                {
                    "output_type": "stream",
                    "name": "stdout",
                    "text": [
                        "9.782701624394415\n"
                    ]
                }
            ],
            "metadata": {}
        },
        {
            "cell_type": "code",
            "execution_count": 14,
            "source": [
                "G = const.G\n",
                "M = const.M_earth\n",
                "r = const.R_earth\n",
                "\n",
                "g = G * M /r**2\n",
                "print(g)"
            ],
            "outputs": [
                {
                    "output_type": "stream",
                    "name": "stdout",
                    "text": [
                        "9.798398133669465 m / s2\n"
                    ]
                }
            ],
            "metadata": {}
        },
        {
            "cell_type": "markdown",
            "source": [
                "(Optional) Commit and push this file with your assignment 1 submission to receive feedback! You could also update your assignment 1 solutions to use `astropy.constants` and `astropy.units` for more practice!\n",
                "\n",
                "See you next week!"
            ],
            "metadata": {}
        }
    ],
    "metadata": {
        "orig_nbformat": 4,
        "language_info": {
            "name": "python",
            "version": "3.8.3",
            "mimetype": "text/x-python",
            "codemirror_mode": {
                "name": "ipython",
                "version": 3
            },
            "pygments_lexer": "ipython3",
            "nbconvert_exporter": "python",
            "file_extension": ".py"
        },
        "kernelspec": {
            "name": "python3",
            "display_name": "Python 3.8.3 64-bit ('base': conda)"
        },
        "interpreter": {
            "hash": "dd80fae8c70f0a878bf10c71f8c55f54a9aab5063b8f6508964e491ac5bad9d0"
        }
    },
    "nbformat": 4,
    "nbformat_minor": 2
}