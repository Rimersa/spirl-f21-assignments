{
    "cells": [
        {
            "cell_type": "markdown",
            "source": [
                "# Assignment 1 (BONUS)\n",
                "\n",
                "This page has a bonus exercise for assignment 1. Please complete it if you found assignment 1 to be easy or mostly review or if you want to extra challenge!\n",
                "\n",
                "## Advanced: Using Astropy\n",
                "\n",
                "Astropy is an astronomy Python package (read more [here](https://www.astropy.org/)) which provides many useful tools. Two tools that are particularly useful for assignment 1 are `astropy.constant` and `astropy.units`.\n",
                "\n",
                "The `astropy.constant` module has many scientific constants available so we don't need to Google them and copy / paste them into our code each time. See all built-in constants [here](https://docs.astropy.org/en/stable/constants/index.html).\n",
                "\n",
                "The `astropy.units` module allows us to do unit transformations so we never have to have headaches converting seconds to kilo-years ever again!.\n"
            ],
            "metadata": {}
        },
        {
            "cell_type": "code",
            "execution_count": 34,
            "source": [
                "# Import both modules\n",
                "from astropy import constants as const\n",
                "from astropy import units as u\n",
                "import numpy as np\n"
            ],
            "outputs": [],
            "metadata": {}
        },
        {
            "cell_type": "markdown",
            "source": [
                "Here we use the constants `g0` for gravitational acceleration on Earth and the unit `u.s` to give our time `t` units of seconds."
            ],
            "metadata": {}
        },
        {
            "cell_type": "code",
            "execution_count": 35,
            "source": [
                "g = const.g0\n",
                "t = 10 * u.second\n",
                "\n",
                "H = (1/2) * g * t**2\n",
                "print(f'On Earth, after {t}, we will fall down {H:1.2f}')"
            ],
            "outputs": [
                {
                    "output_type": "stream",
                    "name": "stdout",
                    "text": [
                        "On Earth, after 10.0 s, we will fall down 490.33 m\n"
                    ]
                }
            ],
            "metadata": {}
        },
        {
            "cell_type": "markdown",
            "source": [
                "If instead we want to specify time in hours, no problem!"
            ],
            "metadata": {}
        },
        {
            "cell_type": "code",
            "execution_count": 36,
            "source": [
                "t = 10 * u.hour"
            ],
            "outputs": [],
            "metadata": {}
        },
        {
            "cell_type": "markdown",
            "source": [
                "Now we just make sure to convert to seconds using `.cgs` to turn any units into *Centimeter-Gram-Second (CGS)* units."
            ],
            "metadata": {}
        },
        {
            "cell_type": "code",
            "execution_count": 37,
            "source": [
                "t = t.cgs\n",
                "g=g.cgs\n",
                "H = (1/2) * g * t**2\n",
                "print(f'On Earth, after {t}, we will fall donw {H:1.2e}')"
            ],
            "outputs": [
                {
                    "output_type": "stream",
                    "name": "stdout",
                    "text": [
                        "On Earth, after 36000.0 s, we will fall donw 6.35e+11 cm\n"
                    ]
                }
            ],
            "metadata": {}
        },
        {
            "cell_type": "markdown",
            "source": [
                "If we make sure to call `.cgs` in our function, we can be sure that no matter what units were on the number we passed in, we will be multiplying `g` and `t` in CGS units."
            ],
            "metadata": {}
        },
        {
            "cell_type": "code",
            "execution_count": 38,
            "source": [
                "def free_fall(t):\n",
                "    g = const.g0.cgs\n",
                "    t = t.cgs\n",
                "    \n",
                "    H = 0.5 * g * t**2\n",
                "    return H"
            ],
            "outputs": [],
            "metadata": {}
        },
        {
            "cell_type": "markdown",
            "source": [
                "Finally, we can use the `.to()` method to do a unit conversion to another unit that astropy recognizes."
            ],
            "metadata": {}
        },
        {
            "cell_type": "code",
            "execution_count": 39,
            "source": [
                "t = 10 * u.hour\n",
                "free_fall(t).to(u.pc)"
            ],
            "outputs": [
                {
                    "output_type": "execute_result",
                    "data": {
                        "text/latex": [
                            "$2.059421 \\times 10^{-7} \\; \\mathrm{pc}$"
                        ],
                        "text/plain": [
                            "<Quantity 2.059421e-07 pc>"
                        ]
                    },
                    "metadata": {},
                    "execution_count": 39
                }
            ],
            "metadata": {}
        },
        {
            "cell_type": "markdown",
            "source": [
                "### [hands-on] Prove g is 9.8 m/sec^2 on Earth  [added units]\n",
                "\n",
                "Now that we've shown you an example of using Astropy, try to prove g is about 9.8 m/sec^2 on Earth with Astropy using the following equation:\n",
                "\n",
                "$$\n",
                "F = ma = \\frac{GMm}{r^2}\n",
                "\\Longrightarrow a = \\frac{GM}{r^2}\n",
                "$$\n",
                "\n",
                "Don't forget to look up constants available in `astropy.constants` and convert to consistent units before doing any computations!"
            ],
            "metadata": {}
        },
        {
            "cell_type": "code",
            "execution_count": 66,
            "source": [
                "# try it here\n",
                "from astropy import constants as const\n",
                "from astropy import units as u\n",
                "g_earth = const.G * const.M_earth/const.R_earth**2\n",
                "print(f'Surface gravity on earth {g_earth:5.2f}')\n",
                "print(f'Or, if you would prefer cgs units, {g_earth.cgs:5.0f}')\n",
                "psec2=g_earth.cgs.to(u.pc/u.s**2)\n",
                "pyr2=g_earth.cgs.to(u.pc/u.year**2)\n",
                "print(f'Or, if you want to get really silly, {psec2:5.2e} or {pyr2:5.2e}')\n",
                "\n"
            ],
            "outputs": [
                {
                    "output_type": "stream",
                    "name": "stdout",
                    "text": [
                        "Surface gravity on earth  9.80 m / s2\n",
                        "Or, if you would prefer cgs units,   980 cm / s2\n",
                        "Or, if you want to get really silly, 3.18e-16 pc / s2 or 3.16e-01 pc / yr2\n"
                    ]
                }
            ],
            "metadata": {}
        },
        {
            "cell_type": "markdown",
            "source": [
                "(Optional) Commit and push this file with your assignment 1 submission to receive feedback! You could also update your assignment 1 solutions to use `astropy.constants` and `astropy.units` for more practice!\n",
                "\n",
                "See you next week!"
            ],
            "metadata": {}
        }
    ],
    "metadata": {
        "orig_nbformat": 4,
        "language_info": {
            "name": "python",
            "version": "3.7.6",
            "mimetype": "text/x-python",
            "codemirror_mode": {
                "name": "ipython",
                "version": 3
            },
            "pygments_lexer": "ipython3",
            "nbconvert_exporter": "python",
            "file_extension": ".py"
        },
        "kernelspec": {
            "name": "python3",
            "display_name": "Python 3.7.6 64-bit ('base': conda)"
        },
        "interpreter": {
            "hash": "dca0ade3e726a953b501b15e8e990130d2b7799f14cfd9f4271676035ebe5511"
        }
    },
    "nbformat": 4,
    "nbformat_minor": 2
}